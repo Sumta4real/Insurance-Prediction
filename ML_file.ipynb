{
 "cells": [
  {
   "cell_type": "markdown",
   "metadata": {},
   "source": [
    "## CREATING MACHINE LEARNING MODEL TO PREDICT INSURANCE CLAIM "
   ]
  },
  {
   "cell_type": "markdown",
   "metadata": {},
   "source": [
    "## 1.0 IMPORT RELEVANT LIBRARIES"
   ]
  },
  {
   "cell_type": "code",
   "execution_count": 1,
   "metadata": {},
   "outputs": [],
   "source": [
    "import pandas as pd\n",
    "import numpy as np\n",
    "import seaborn as sns\n",
    "import matplotlib.pyplot as plt\n",
    "from sklearn.preprocessing import OneHotEncoder\n",
    "from sklearn.preprocessing import StandardScaler\n",
    "from sklearn.model_selection import train_test_split\n",
    "from sklearn.metrics import r2_score, mean_absolute_error\n"
   ]
  },
  {
   "cell_type": "markdown",
   "metadata": {},
   "source": [
    "## 2.0 LOAD THE DATA"
   ]
  },
  {
   "cell_type": "code",
   "execution_count": 2,
   "metadata": {},
   "outputs": [],
   "source": [
    "train_df = pd.read_csv('C:/Users/user/Desktop/DS Projects/InsurancePrediction/insured_prepro_train.csv')\n",
    "test_df = pd.read_csv('C:/Users/user/Desktop/DS Projects/InsurancePrediction/insure_prepro_test.csv')\n",
    "\n"
   ]
  },
  {
   "cell_type": "code",
   "execution_count": 3,
   "metadata": {},
   "outputs": [
    {
     "name": "stdout",
     "output_type": "stream",
     "text": [
      "<class 'pandas.core.frame.DataFrame'>\n",
      "RangeIndex: 7160 entries, 0 to 7159\n",
      "Data columns (total 13 columns):\n",
      " #   Column                        Non-Null Count  Dtype  \n",
      "---  ------                        --------------  -----  \n",
      " 0   Unnamed: 0                    7160 non-null   int64  \n",
      " 1   Building_Painted              7160 non-null   object \n",
      " 2   Building Dimension            7160 non-null   float64\n",
      " 3   Building_Type                 7160 non-null   int64  \n",
      " 4   Geo_Code                      7160 non-null   object \n",
      " 5   Claim                         7160 non-null   int64  \n",
      " 6   Windows                       7160 non-null   int64  \n",
      " 7   Building Dimensionis missing  7160 non-null   bool   \n",
      " 8   Date_of_Occupancyis missing   7160 non-null   bool   \n",
      " 9   Insured_time                  7160 non-null   int64  \n",
      " 10  Building_Class                7160 non-null   object \n",
      " 11  Building_category             7160 non-null   object \n",
      " 12  Building_age                  7160 non-null   float64\n",
      "dtypes: bool(2), float64(2), int64(5), object(4)\n",
      "memory usage: 629.4+ KB\n"
     ]
    },
    {
     "data": {
      "text/html": [
       "<div>\n",
       "<style scoped>\n",
       "    .dataframe tbody tr th:only-of-type {\n",
       "        vertical-align: middle;\n",
       "    }\n",
       "\n",
       "    .dataframe tbody tr th {\n",
       "        vertical-align: top;\n",
       "    }\n",
       "\n",
       "    .dataframe thead th {\n",
       "        text-align: right;\n",
       "    }\n",
       "</style>\n",
       "<table border=\"1\" class=\"dataframe\">\n",
       "  <thead>\n",
       "    <tr style=\"text-align: right;\">\n",
       "      <th></th>\n",
       "      <th>Unnamed: 0</th>\n",
       "      <th>Building_Painted</th>\n",
       "      <th>Building Dimension</th>\n",
       "      <th>Building_Type</th>\n",
       "      <th>Geo_Code</th>\n",
       "      <th>Claim</th>\n",
       "      <th>Windows</th>\n",
       "      <th>Building Dimensionis missing</th>\n",
       "      <th>Date_of_Occupancyis missing</th>\n",
       "      <th>Insured_time</th>\n",
       "      <th>Building_Class</th>\n",
       "      <th>Building_category</th>\n",
       "      <th>Building_age</th>\n",
       "    </tr>\n",
       "  </thead>\n",
       "  <tbody>\n",
       "    <tr>\n",
       "      <th>0</th>\n",
       "      <td>0</td>\n",
       "      <td>N</td>\n",
       "      <td>290.0</td>\n",
       "      <td>1</td>\n",
       "      <td>1053</td>\n",
       "      <td>0</td>\n",
       "      <td>0</td>\n",
       "      <td>False</td>\n",
       "      <td>False</td>\n",
       "      <td>4</td>\n",
       "      <td>old</td>\n",
       "      <td>Urban Non-Residential</td>\n",
       "      <td>53.0</td>\n",
       "    </tr>\n",
       "    <tr>\n",
       "      <th>1</th>\n",
       "      <td>1</td>\n",
       "      <td>V</td>\n",
       "      <td>490.0</td>\n",
       "      <td>1</td>\n",
       "      <td>1053</td>\n",
       "      <td>0</td>\n",
       "      <td>2</td>\n",
       "      <td>False</td>\n",
       "      <td>False</td>\n",
       "      <td>4</td>\n",
       "      <td>modern</td>\n",
       "      <td>Rural Non-Residential</td>\n",
       "      <td>85.0</td>\n",
       "    </tr>\n",
       "    <tr>\n",
       "      <th>2</th>\n",
       "      <td>2</td>\n",
       "      <td>N</td>\n",
       "      <td>595.0</td>\n",
       "      <td>1</td>\n",
       "      <td>1053</td>\n",
       "      <td>0</td>\n",
       "      <td>0</td>\n",
       "      <td>False</td>\n",
       "      <td>False</td>\n",
       "      <td>4</td>\n",
       "      <td>old</td>\n",
       "      <td>Urban Non-Residential</td>\n",
       "      <td>54.0</td>\n",
       "    </tr>\n",
       "    <tr>\n",
       "      <th>3</th>\n",
       "      <td>3</td>\n",
       "      <td>V</td>\n",
       "      <td>2840.0</td>\n",
       "      <td>1</td>\n",
       "      <td>1053</td>\n",
       "      <td>0</td>\n",
       "      <td>0</td>\n",
       "      <td>False</td>\n",
       "      <td>False</td>\n",
       "      <td>4</td>\n",
       "      <td>old</td>\n",
       "      <td>Urban Non-Residential</td>\n",
       "      <td>53.0</td>\n",
       "    </tr>\n",
       "    <tr>\n",
       "      <th>4</th>\n",
       "      <td>4</td>\n",
       "      <td>V</td>\n",
       "      <td>680.0</td>\n",
       "      <td>1</td>\n",
       "      <td>1053</td>\n",
       "      <td>0</td>\n",
       "      <td>1</td>\n",
       "      <td>False</td>\n",
       "      <td>False</td>\n",
       "      <td>4</td>\n",
       "      <td>modern</td>\n",
       "      <td>Rural Non-Residential</td>\n",
       "      <td>84.0</td>\n",
       "    </tr>\n",
       "  </tbody>\n",
       "</table>\n",
       "</div>"
      ],
      "text/plain": [
       "   Unnamed: 0 Building_Painted  Building Dimension  Building_Type Geo_Code  \\\n",
       "0           0                N               290.0              1     1053   \n",
       "1           1                V               490.0              1     1053   \n",
       "2           2                N               595.0              1     1053   \n",
       "3           3                V              2840.0              1     1053   \n",
       "4           4                V               680.0              1     1053   \n",
       "\n",
       "   Claim  Windows  Building Dimensionis missing  Date_of_Occupancyis missing  \\\n",
       "0      0        0                         False                        False   \n",
       "1      0        2                         False                        False   \n",
       "2      0        0                         False                        False   \n",
       "3      0        0                         False                        False   \n",
       "4      0        1                         False                        False   \n",
       "\n",
       "   Insured_time Building_Class      Building_category  Building_age  \n",
       "0             4            old  Urban Non-Residential          53.0  \n",
       "1             4         modern  Rural Non-Residential          85.0  \n",
       "2             4            old  Urban Non-Residential          54.0  \n",
       "3             4            old  Urban Non-Residential          53.0  \n",
       "4             4         modern  Rural Non-Residential          84.0  "
      ]
     },
     "execution_count": 3,
     "metadata": {},
     "output_type": "execute_result"
    }
   ],
   "source": [
    "train_df.info()\n",
    "train_df.head()"
   ]
  },
  {
   "cell_type": "code",
   "execution_count": 4,
   "metadata": {},
   "outputs": [
    {
     "name": "stdout",
     "output_type": "stream",
     "text": [
      "<class 'pandas.core.frame.DataFrame'>\n",
      "RangeIndex: 3069 entries, 0 to 3068\n",
      "Data columns (total 12 columns):\n",
      " #   Column                        Non-Null Count  Dtype  \n",
      "---  ------                        --------------  -----  \n",
      " 0   Unnamed: 0                    3069 non-null   int64  \n",
      " 1   Building_Painted              3069 non-null   object \n",
      " 2   Building Dimension            3069 non-null   float64\n",
      " 3   Building_Type                 3069 non-null   int64  \n",
      " 4   Geo_Code                      3069 non-null   object \n",
      " 5   Windows                       3069 non-null   int64  \n",
      " 6   Building Dimensionis missing  3069 non-null   bool   \n",
      " 7   Date_of_Occupancyis missing   3069 non-null   bool   \n",
      " 8   Insured_time                  3069 non-null   int64  \n",
      " 9   Building_Class                3069 non-null   object \n",
      " 10  Building_category             3069 non-null   object \n",
      " 11  Building_age                  3069 non-null   float64\n",
      "dtypes: bool(2), float64(2), int64(4), object(4)\n",
      "memory usage: 245.9+ KB\n"
     ]
    },
    {
     "data": {
      "text/html": [
       "<div>\n",
       "<style scoped>\n",
       "    .dataframe tbody tr th:only-of-type {\n",
       "        vertical-align: middle;\n",
       "    }\n",
       "\n",
       "    .dataframe tbody tr th {\n",
       "        vertical-align: top;\n",
       "    }\n",
       "\n",
       "    .dataframe thead th {\n",
       "        text-align: right;\n",
       "    }\n",
       "</style>\n",
       "<table border=\"1\" class=\"dataframe\">\n",
       "  <thead>\n",
       "    <tr style=\"text-align: right;\">\n",
       "      <th></th>\n",
       "      <th>Unnamed: 0</th>\n",
       "      <th>Building_Painted</th>\n",
       "      <th>Building Dimension</th>\n",
       "      <th>Building_Type</th>\n",
       "      <th>Geo_Code</th>\n",
       "      <th>Windows</th>\n",
       "      <th>Building Dimensionis missing</th>\n",
       "      <th>Date_of_Occupancyis missing</th>\n",
       "      <th>Insured_time</th>\n",
       "      <th>Building_Class</th>\n",
       "      <th>Building_category</th>\n",
       "      <th>Building_age</th>\n",
       "    </tr>\n",
       "  </thead>\n",
       "  <tbody>\n",
       "    <tr>\n",
       "      <th>0</th>\n",
       "      <td>0</td>\n",
       "      <td>V</td>\n",
       "      <td>300.0</td>\n",
       "      <td>1</td>\n",
       "      <td>3310</td>\n",
       "      <td>1</td>\n",
       "      <td>False</td>\n",
       "      <td>False</td>\n",
       "      <td>4</td>\n",
       "      <td>modern</td>\n",
       "      <td>Rural Non-Residential</td>\n",
       "      <td>53.0</td>\n",
       "    </tr>\n",
       "    <tr>\n",
       "      <th>1</th>\n",
       "      <td>1</td>\n",
       "      <td>V</td>\n",
       "      <td>300.0</td>\n",
       "      <td>1</td>\n",
       "      <td>3310</td>\n",
       "      <td>1</td>\n",
       "      <td>False</td>\n",
       "      <td>False</td>\n",
       "      <td>3</td>\n",
       "      <td>modern</td>\n",
       "      <td>Rural Non-Residential</td>\n",
       "      <td>56.0</td>\n",
       "    </tr>\n",
       "    <tr>\n",
       "      <th>2</th>\n",
       "      <td>2</td>\n",
       "      <td>V</td>\n",
       "      <td>790.0</td>\n",
       "      <td>1</td>\n",
       "      <td>3310</td>\n",
       "      <td>0</td>\n",
       "      <td>False</td>\n",
       "      <td>False</td>\n",
       "      <td>1</td>\n",
       "      <td>old</td>\n",
       "      <td>Urban Non-Residential</td>\n",
       "      <td>53.0</td>\n",
       "    </tr>\n",
       "    <tr>\n",
       "      <th>3</th>\n",
       "      <td>3</td>\n",
       "      <td>V</td>\n",
       "      <td>1405.0</td>\n",
       "      <td>1</td>\n",
       "      <td>3321</td>\n",
       "      <td>1</td>\n",
       "      <td>False</td>\n",
       "      <td>False</td>\n",
       "      <td>4</td>\n",
       "      <td>modern</td>\n",
       "      <td>Rural Non-Residential</td>\n",
       "      <td>10.0</td>\n",
       "    </tr>\n",
       "    <tr>\n",
       "      <th>4</th>\n",
       "      <td>4</td>\n",
       "      <td>V</td>\n",
       "      <td>1405.0</td>\n",
       "      <td>1</td>\n",
       "      <td>3321</td>\n",
       "      <td>1</td>\n",
       "      <td>False</td>\n",
       "      <td>False</td>\n",
       "      <td>4</td>\n",
       "      <td>modern</td>\n",
       "      <td>Rural Non-Residential</td>\n",
       "      <td>12.0</td>\n",
       "    </tr>\n",
       "  </tbody>\n",
       "</table>\n",
       "</div>"
      ],
      "text/plain": [
       "   Unnamed: 0 Building_Painted  Building Dimension  Building_Type Geo_Code  \\\n",
       "0           0                V               300.0              1     3310   \n",
       "1           1                V               300.0              1     3310   \n",
       "2           2                V               790.0              1     3310   \n",
       "3           3                V              1405.0              1     3321   \n",
       "4           4                V              1405.0              1     3321   \n",
       "\n",
       "   Windows  Building Dimensionis missing  Date_of_Occupancyis missing  \\\n",
       "0        1                         False                        False   \n",
       "1        1                         False                        False   \n",
       "2        0                         False                        False   \n",
       "3        1                         False                        False   \n",
       "4        1                         False                        False   \n",
       "\n",
       "   Insured_time Building_Class      Building_category  Building_age  \n",
       "0             4         modern  Rural Non-Residential          53.0  \n",
       "1             3         modern  Rural Non-Residential          56.0  \n",
       "2             1            old  Urban Non-Residential          53.0  \n",
       "3             4         modern  Rural Non-Residential          10.0  \n",
       "4             4         modern  Rural Non-Residential          12.0  "
      ]
     },
     "execution_count": 4,
     "metadata": {},
     "output_type": "execute_result"
    }
   ],
   "source": [
    "test_df.info()\n",
    "test_df.head()"
   ]
  },
  {
   "cell_type": "code",
   "execution_count": 5,
   "metadata": {},
   "outputs": [],
   "source": [
    "# drop the 'Unnamed:0' column\n",
    "\n",
    "train_df.drop('Unnamed: 0', axis=1, inplace=True)\n",
    "test_df.drop('Unnamed: 0', axis=1, inplace=True)"
   ]
  },
  {
   "cell_type": "code",
   "execution_count": 6,
   "metadata": {},
   "outputs": [],
   "source": [
    "# Drop the Geo_Code feature as it contains over 1000 unique values and might not be relevant to our model\n",
    "train_df.drop('Geo_Code', axis=1, inplace=True)\n",
    "test_df.drop('Geo_Code', axis=1, inplace=True)"
   ]
  },
  {
   "cell_type": "code",
   "execution_count": 7,
   "metadata": {
    "scrolled": true
   },
   "outputs": [
    {
     "name": "stdout",
     "output_type": "stream",
     "text": [
      "<class 'pandas.core.frame.DataFrame'>\n",
      "RangeIndex: 7160 entries, 0 to 7159\n",
      "Data columns (total 11 columns):\n",
      " #   Column                        Non-Null Count  Dtype  \n",
      "---  ------                        --------------  -----  \n",
      " 0   Building_Painted              7160 non-null   object \n",
      " 1   Building Dimension            7160 non-null   float64\n",
      " 2   Building_Type                 7160 non-null   int64  \n",
      " 3   Claim                         7160 non-null   int64  \n",
      " 4   Windows                       7160 non-null   int64  \n",
      " 5   Building Dimensionis missing  7160 non-null   bool   \n",
      " 6   Date_of_Occupancyis missing   7160 non-null   bool   \n",
      " 7   Insured_time                  7160 non-null   int64  \n",
      " 8   Building_Class                7160 non-null   object \n",
      " 9   Building_category             7160 non-null   object \n",
      " 10  Building_age                  7160 non-null   float64\n",
      "dtypes: bool(2), float64(2), int64(4), object(3)\n",
      "memory usage: 517.5+ KB\n",
      "<class 'pandas.core.frame.DataFrame'>\n",
      "RangeIndex: 3069 entries, 0 to 3068\n",
      "Data columns (total 10 columns):\n",
      " #   Column                        Non-Null Count  Dtype  \n",
      "---  ------                        --------------  -----  \n",
      " 0   Building_Painted              3069 non-null   object \n",
      " 1   Building Dimension            3069 non-null   float64\n",
      " 2   Building_Type                 3069 non-null   int64  \n",
      " 3   Windows                       3069 non-null   int64  \n",
      " 4   Building Dimensionis missing  3069 non-null   bool   \n",
      " 5   Date_of_Occupancyis missing   3069 non-null   bool   \n",
      " 6   Insured_time                  3069 non-null   int64  \n",
      " 7   Building_Class                3069 non-null   object \n",
      " 8   Building_category             3069 non-null   object \n",
      " 9   Building_age                  3069 non-null   float64\n",
      "dtypes: bool(2), float64(2), int64(3), object(3)\n",
      "memory usage: 197.9+ KB\n"
     ]
    }
   ],
   "source": [
    "train_df.info()\n",
    "test_df.info()"
   ]
  },
  {
   "cell_type": "markdown",
   "metadata": {},
   "source": [
    "## 3.0 DEFINE THE TARGET AND THE INPUT VARIABLES"
   ]
  },
  {
   "cell_type": "code",
   "execution_count": 39,
   "metadata": {},
   "outputs": [],
   "source": [
    "target = train_df['Claim']\n",
    "input_var = train_df.drop('Claim', axis=1)"
   ]
  },
  {
   "cell_type": "code",
   "execution_count": 40,
   "metadata": {},
   "outputs": [
    {
     "name": "stdout",
     "output_type": "stream",
     "text": [
      "<class 'pandas.core.frame.DataFrame'>\n",
      "RangeIndex: 7160 entries, 0 to 7159\n",
      "Data columns (total 10 columns):\n",
      " #   Column                        Non-Null Count  Dtype  \n",
      "---  ------                        --------------  -----  \n",
      " 0   Building_Painted              7160 non-null   object \n",
      " 1   Building Dimension            7160 non-null   float64\n",
      " 2   Building_Type                 7160 non-null   int64  \n",
      " 3   Windows                       7160 non-null   int64  \n",
      " 4   Building Dimensionis missing  7160 non-null   bool   \n",
      " 5   Date_of_Occupancyis missing   7160 non-null   bool   \n",
      " 6   Insured_time                  7160 non-null   int64  \n",
      " 7   Building_Class                7160 non-null   object \n",
      " 8   Building_category             7160 non-null   object \n",
      " 9   Building_age                  7160 non-null   float64\n",
      "dtypes: bool(2), float64(2), int64(3), object(3)\n",
      "memory usage: 461.6+ KB\n"
     ]
    }
   ],
   "source": [
    "input_var.info()"
   ]
  },
  {
   "cell_type": "code",
   "execution_count": 41,
   "metadata": {},
   "outputs": [
    {
     "data": {
      "text/plain": [
       "0       0\n",
       "1       0\n",
       "2       0\n",
       "3       0\n",
       "4       0\n",
       "       ..\n",
       "7155    0\n",
       "7156    1\n",
       "7157    0\n",
       "7158    0\n",
       "7159    0\n",
       "Name: Claim, Length: 7160, dtype: int64"
      ]
     },
     "execution_count": 41,
     "metadata": {},
     "output_type": "execute_result"
    }
   ],
   "source": [
    "target"
   ]
  },
  {
   "cell_type": "markdown",
   "metadata": {},
   "source": [
    "## 4.0 CATEGORICAL ENCODING AND FEATURE SCALING"
   ]
  },
  {
   "cell_type": "code",
   "execution_count": 30,
   "metadata": {},
   "outputs": [],
   "source": [
    "#get the categorical features\n",
    "\n",
    "cat = (input_var.dtypes == 'object')\n",
    "cat = list(cat[cat].index)"
   ]
  },
  {
   "cell_type": "code",
   "execution_count": 42,
   "metadata": {},
   "outputs": [],
   "source": [
    "#get the numerical features\n",
    "\n",
    "num = (input_var.dtypes != 'object')\n",
    "num = list(num[num].index)"
   ]
  },
  {
   "cell_type": "code",
   "execution_count": 43,
   "metadata": {},
   "outputs": [],
   "source": [
    "# Use sickit-learn column transformer to perform both operations\n",
    "from sklearn.compose import make_column_transformer\n",
    "\n",
    "column_trans = make_column_transformer(\n",
    "         (OneHotEncoder(),cat), \n",
    "         (StandardScaler(),num), \n",
    "         remainder='passthrough')\n",
    "\n"
   ]
  },
  {
   "cell_type": "code",
   "execution_count": 44,
   "metadata": {},
   "outputs": [
    {
     "data": {
      "text/plain": [
       "array([[ 1.        ,  0.        ,  0.        , ...,  0.        ,\n",
       "         0.51846884,  0.37634072],\n",
       "       [ 0.        ,  1.        ,  1.        , ...,  0.        ,\n",
       "         0.51846884,  1.87036142],\n",
       "       [ 1.        ,  0.        ,  0.        , ...,  0.        ,\n",
       "         0.51846884,  0.42302887],\n",
       "       ...,\n",
       "       [ 0.        ,  1.        ,  0.        , ...,  0.        ,\n",
       "        -2.35403844, -0.97761554],\n",
       "       [ 0.        ,  1.        ,  0.        , ...,  0.        ,\n",
       "         0.51846884, -0.18391704],\n",
       "       [ 0.        ,  1.        ,  0.        , ...,  0.        ,\n",
       "         0.51846884, -1.6312496 ]])"
      ]
     },
     "execution_count": 44,
     "metadata": {},
     "output_type": "execute_result"
    }
   ],
   "source": [
    "column_trans.fit_transform(X_train)"
   ]
  },
  {
   "cell_type": "code",
   "execution_count": null,
   "metadata": {},
   "outputs": [],
   "source": []
  }
 ],
 "metadata": {
  "kernelspec": {
   "display_name": "Python 3",
   "language": "python",
   "name": "python3"
  },
  "language_info": {
   "codemirror_mode": {
    "name": "ipython",
    "version": 3
   },
   "file_extension": ".py",
   "mimetype": "text/x-python",
   "name": "python",
   "nbconvert_exporter": "python",
   "pygments_lexer": "ipython3",
   "version": "3.8.5"
  }
 },
 "nbformat": 4,
 "nbformat_minor": 4
}
