{
 "cells": [
  {
   "cell_type": "markdown",
   "metadata": {},
   "source": [
    "## CREATING MACHINE LEARNING MODEL TO PREDICT INSURANCE CLAIM "
   ]
  },
  {
   "cell_type": "markdown",
   "metadata": {},
   "source": [
    "## 1.0 IMPORT RELEVANT LIBRARIES"
   ]
  },
  {
   "cell_type": "code",
   "execution_count": 65,
   "metadata": {},
   "outputs": [],
   "source": [
    "import pandas as pd\n",
    "import numpy as np\n",
    "import seaborn as sns\n",
    "import matplotlib.pyplot as plt\n",
    "from sklearn.preprocessing import OneHotEncoder\n",
    "from sklearn.preprocessing import StandardScaler\n",
    "from sklearn.model_selection import train_test_split\n",
    "from sklearn.metrics import r2_score, mean_absolute_error\n"
   ]
  },
  {
   "cell_type": "markdown",
   "metadata": {},
   "source": [
    "## 2.0 LOAD THE DATA"
   ]
  },
  {
   "cell_type": "code",
   "execution_count": 2,
   "metadata": {},
   "outputs": [],
   "source": [
    "train_df = pd.read_csv('C:/Users/user/Desktop/DS Projects/Insurance-Prediction/insured_prepro_train.csv')\n",
    "test_df = pd.read_csv('C:/Users/user/Desktop/DS Projects/Insurance-Prediction/insure_prepro_test.csv')\n",
    "\n"
   ]
  },
  {
   "cell_type": "code",
   "execution_count": 3,
   "metadata": {},
   "outputs": [
    {
     "name": "stdout",
     "output_type": "stream",
     "text": [
      "<class 'pandas.core.frame.DataFrame'>\n",
      "RangeIndex: 7160 entries, 0 to 7159\n",
      "Data columns (total 13 columns):\n",
      " #   Column                        Non-Null Count  Dtype  \n",
      "---  ------                        --------------  -----  \n",
      " 0   Unnamed: 0                    7160 non-null   int64  \n",
      " 1   Building_Painted              7160 non-null   object \n",
      " 2   Building Dimension            7160 non-null   float64\n",
      " 3   Building_Type                 7160 non-null   int64  \n",
      " 4   Geo_Code                      7160 non-null   object \n",
      " 5   Claim                         7160 non-null   int64  \n",
      " 6   Windows                       7160 non-null   int64  \n",
      " 7   Building Dimensionis missing  7160 non-null   bool   \n",
      " 8   Date_of_Occupancyis missing   7160 non-null   bool   \n",
      " 9   Insured_time                  7160 non-null   int64  \n",
      " 10  Building_Class                7160 non-null   object \n",
      " 11  Building_category             7160 non-null   object \n",
      " 12  Building_age                  7160 non-null   float64\n",
      "dtypes: bool(2), float64(2), int64(5), object(4)\n",
      "memory usage: 629.4+ KB\n"
     ]
    },
    {
     "data": {
      "text/html": [
       "<div>\n",
       "<style scoped>\n",
       "    .dataframe tbody tr th:only-of-type {\n",
       "        vertical-align: middle;\n",
       "    }\n",
       "\n",
       "    .dataframe tbody tr th {\n",
       "        vertical-align: top;\n",
       "    }\n",
       "\n",
       "    .dataframe thead th {\n",
       "        text-align: right;\n",
       "    }\n",
       "</style>\n",
       "<table border=\"1\" class=\"dataframe\">\n",
       "  <thead>\n",
       "    <tr style=\"text-align: right;\">\n",
       "      <th></th>\n",
       "      <th>Unnamed: 0</th>\n",
       "      <th>Building_Painted</th>\n",
       "      <th>Building Dimension</th>\n",
       "      <th>Building_Type</th>\n",
       "      <th>Geo_Code</th>\n",
       "      <th>Claim</th>\n",
       "      <th>Windows</th>\n",
       "      <th>Building Dimensionis missing</th>\n",
       "      <th>Date_of_Occupancyis missing</th>\n",
       "      <th>Insured_time</th>\n",
       "      <th>Building_Class</th>\n",
       "      <th>Building_category</th>\n",
       "      <th>Building_age</th>\n",
       "    </tr>\n",
       "  </thead>\n",
       "  <tbody>\n",
       "    <tr>\n",
       "      <th>0</th>\n",
       "      <td>0</td>\n",
       "      <td>N</td>\n",
       "      <td>290.0</td>\n",
       "      <td>1</td>\n",
       "      <td>1053</td>\n",
       "      <td>0</td>\n",
       "      <td>0</td>\n",
       "      <td>False</td>\n",
       "      <td>False</td>\n",
       "      <td>4</td>\n",
       "      <td>old</td>\n",
       "      <td>Urban Non-Residential</td>\n",
       "      <td>53.0</td>\n",
       "    </tr>\n",
       "    <tr>\n",
       "      <th>1</th>\n",
       "      <td>1</td>\n",
       "      <td>V</td>\n",
       "      <td>490.0</td>\n",
       "      <td>1</td>\n",
       "      <td>1053</td>\n",
       "      <td>0</td>\n",
       "      <td>2</td>\n",
       "      <td>False</td>\n",
       "      <td>False</td>\n",
       "      <td>4</td>\n",
       "      <td>modern</td>\n",
       "      <td>Rural Non-Residential</td>\n",
       "      <td>85.0</td>\n",
       "    </tr>\n",
       "    <tr>\n",
       "      <th>2</th>\n",
       "      <td>2</td>\n",
       "      <td>N</td>\n",
       "      <td>595.0</td>\n",
       "      <td>1</td>\n",
       "      <td>1053</td>\n",
       "      <td>0</td>\n",
       "      <td>0</td>\n",
       "      <td>False</td>\n",
       "      <td>False</td>\n",
       "      <td>4</td>\n",
       "      <td>old</td>\n",
       "      <td>Urban Non-Residential</td>\n",
       "      <td>54.0</td>\n",
       "    </tr>\n",
       "    <tr>\n",
       "      <th>3</th>\n",
       "      <td>3</td>\n",
       "      <td>V</td>\n",
       "      <td>2840.0</td>\n",
       "      <td>1</td>\n",
       "      <td>1053</td>\n",
       "      <td>0</td>\n",
       "      <td>0</td>\n",
       "      <td>False</td>\n",
       "      <td>False</td>\n",
       "      <td>4</td>\n",
       "      <td>old</td>\n",
       "      <td>Urban Non-Residential</td>\n",
       "      <td>53.0</td>\n",
       "    </tr>\n",
       "    <tr>\n",
       "      <th>4</th>\n",
       "      <td>4</td>\n",
       "      <td>V</td>\n",
       "      <td>680.0</td>\n",
       "      <td>1</td>\n",
       "      <td>1053</td>\n",
       "      <td>0</td>\n",
       "      <td>1</td>\n",
       "      <td>False</td>\n",
       "      <td>False</td>\n",
       "      <td>4</td>\n",
       "      <td>modern</td>\n",
       "      <td>Rural Non-Residential</td>\n",
       "      <td>84.0</td>\n",
       "    </tr>\n",
       "  </tbody>\n",
       "</table>\n",
       "</div>"
      ],
      "text/plain": [
       "   Unnamed: 0 Building_Painted  Building Dimension  Building_Type Geo_Code  \\\n",
       "0           0                N               290.0              1     1053   \n",
       "1           1                V               490.0              1     1053   \n",
       "2           2                N               595.0              1     1053   \n",
       "3           3                V              2840.0              1     1053   \n",
       "4           4                V               680.0              1     1053   \n",
       "\n",
       "   Claim  Windows  Building Dimensionis missing  Date_of_Occupancyis missing  \\\n",
       "0      0        0                         False                        False   \n",
       "1      0        2                         False                        False   \n",
       "2      0        0                         False                        False   \n",
       "3      0        0                         False                        False   \n",
       "4      0        1                         False                        False   \n",
       "\n",
       "   Insured_time Building_Class      Building_category  Building_age  \n",
       "0             4            old  Urban Non-Residential          53.0  \n",
       "1             4         modern  Rural Non-Residential          85.0  \n",
       "2             4            old  Urban Non-Residential          54.0  \n",
       "3             4            old  Urban Non-Residential          53.0  \n",
       "4             4         modern  Rural Non-Residential          84.0  "
      ]
     },
     "execution_count": 67,
     "metadata": {},
     "output_type": "execute_result"
    }
   ],
   "source": [
    "train_df.info()\n",
    "train_df.head()"
   ]
  },
  {
   "cell_type": "code",
   "execution_count": 68,
   "metadata": {},
   "outputs": [
    {
     "name": "stdout",
     "output_type": "stream",
     "text": [
      "<class 'pandas.core.frame.DataFrame'>\n",
      "RangeIndex: 3069 entries, 0 to 3068\n",
      "Data columns (total 12 columns):\n",
      " #   Column                        Non-Null Count  Dtype  \n",
      "---  ------                        --------------  -----  \n",
      " 0   Unnamed: 0                    3069 non-null   int64  \n",
      " 1   Building_Painted              3069 non-null   object \n",
      " 2   Building Dimension            3069 non-null   float64\n",
      " 3   Building_Type                 3069 non-null   int64  \n",
      " 4   Geo_Code                      3069 non-null   object \n",
      " 5   Windows                       3069 non-null   int64  \n",
      " 6   Building Dimensionis missing  3069 non-null   bool   \n",
      " 7   Date_of_Occupancyis missing   3069 non-null   bool   \n",
      " 8   Insured_time                  3069 non-null   int64  \n",
      " 9   Building_Class                3069 non-null   object \n",
      " 10  Building_category             3069 non-null   object \n",
      " 11  Building_age                  3069 non-null   float64\n",
      "dtypes: bool(2), float64(2), int64(4), object(4)\n",
      "memory usage: 245.9+ KB\n"
     ]
    },
    {
     "data": {
      "text/html": [
       "<div>\n",
       "<style scoped>\n",
       "    .dataframe tbody tr th:only-of-type {\n",
       "        vertical-align: middle;\n",
       "    }\n",
       "\n",
       "    .dataframe tbody tr th {\n",
       "        vertical-align: top;\n",
       "    }\n",
       "\n",
       "    .dataframe thead th {\n",
       "        text-align: right;\n",
       "    }\n",
       "</style>\n",
       "<table border=\"1\" class=\"dataframe\">\n",
       "  <thead>\n",
       "    <tr style=\"text-align: right;\">\n",
       "      <th></th>\n",
       "      <th>Unnamed: 0</th>\n",
       "      <th>Building_Painted</th>\n",
       "      <th>Building Dimension</th>\n",
       "      <th>Building_Type</th>\n",
       "      <th>Geo_Code</th>\n",
       "      <th>Windows</th>\n",
       "      <th>Building Dimensionis missing</th>\n",
       "      <th>Date_of_Occupancyis missing</th>\n",
       "      <th>Insured_time</th>\n",
       "      <th>Building_Class</th>\n",
       "      <th>Building_category</th>\n",
       "      <th>Building_age</th>\n",
       "    </tr>\n",
       "  </thead>\n",
       "  <tbody>\n",
       "    <tr>\n",
       "      <th>0</th>\n",
       "      <td>0</td>\n",
       "      <td>V</td>\n",
       "      <td>300.0</td>\n",
       "      <td>1</td>\n",
       "      <td>3310</td>\n",
       "      <td>1</td>\n",
       "      <td>False</td>\n",
       "      <td>False</td>\n",
       "      <td>4</td>\n",
       "      <td>modern</td>\n",
       "      <td>Rural Non-Residential</td>\n",
       "      <td>53.0</td>\n",
       "    </tr>\n",
       "    <tr>\n",
       "      <th>1</th>\n",
       "      <td>1</td>\n",
       "      <td>V</td>\n",
       "      <td>300.0</td>\n",
       "      <td>1</td>\n",
       "      <td>3310</td>\n",
       "      <td>1</td>\n",
       "      <td>False</td>\n",
       "      <td>False</td>\n",
       "      <td>3</td>\n",
       "      <td>modern</td>\n",
       "      <td>Rural Non-Residential</td>\n",
       "      <td>56.0</td>\n",
       "    </tr>\n",
       "    <tr>\n",
       "      <th>2</th>\n",
       "      <td>2</td>\n",
       "      <td>V</td>\n",
       "      <td>790.0</td>\n",
       "      <td>1</td>\n",
       "      <td>3310</td>\n",
       "      <td>0</td>\n",
       "      <td>False</td>\n",
       "      <td>False</td>\n",
       "      <td>1</td>\n",
       "      <td>old</td>\n",
       "      <td>Urban Non-Residential</td>\n",
       "      <td>53.0</td>\n",
       "    </tr>\n",
       "    <tr>\n",
       "      <th>3</th>\n",
       "      <td>3</td>\n",
       "      <td>V</td>\n",
       "      <td>1405.0</td>\n",
       "      <td>1</td>\n",
       "      <td>3321</td>\n",
       "      <td>1</td>\n",
       "      <td>False</td>\n",
       "      <td>False</td>\n",
       "      <td>4</td>\n",
       "      <td>modern</td>\n",
       "      <td>Rural Non-Residential</td>\n",
       "      <td>10.0</td>\n",
       "    </tr>\n",
       "    <tr>\n",
       "      <th>4</th>\n",
       "      <td>4</td>\n",
       "      <td>V</td>\n",
       "      <td>1405.0</td>\n",
       "      <td>1</td>\n",
       "      <td>3321</td>\n",
       "      <td>1</td>\n",
       "      <td>False</td>\n",
       "      <td>False</td>\n",
       "      <td>4</td>\n",
       "      <td>modern</td>\n",
       "      <td>Rural Non-Residential</td>\n",
       "      <td>12.0</td>\n",
       "    </tr>\n",
       "  </tbody>\n",
       "</table>\n",
       "</div>"
      ],
      "text/plain": [
       "   Unnamed: 0 Building_Painted  Building Dimension  Building_Type Geo_Code  \\\n",
       "0           0                V               300.0              1     3310   \n",
       "1           1                V               300.0              1     3310   \n",
       "2           2                V               790.0              1     3310   \n",
       "3           3                V              1405.0              1     3321   \n",
       "4           4                V              1405.0              1     3321   \n",
       "\n",
       "   Windows  Building Dimensionis missing  Date_of_Occupancyis missing  \\\n",
       "0        1                         False                        False   \n",
       "1        1                         False                        False   \n",
       "2        0                         False                        False   \n",
       "3        1                         False                        False   \n",
       "4        1                         False                        False   \n",
       "\n",
       "   Insured_time Building_Class      Building_category  Building_age  \n",
       "0             4         modern  Rural Non-Residential          53.0  \n",
       "1             3         modern  Rural Non-Residential          56.0  \n",
       "2             1            old  Urban Non-Residential          53.0  \n",
       "3             4         modern  Rural Non-Residential          10.0  \n",
       "4             4         modern  Rural Non-Residential          12.0  "
      ]
     },
     "execution_count": 68,
     "metadata": {},
     "output_type": "execute_result"
    }
   ],
   "source": [
    "test_df.info()\n",
    "test_df.head()"
   ]
  },
  {
   "cell_type": "code",
   "execution_count": 69,
   "metadata": {},
   "outputs": [],
   "source": [
    "# drop the 'Unnamed:0' column\n",
    "\n",
    "train_df.drop('Unnamed: 0', axis=1, inplace=True)\n",
    "test_df.drop('Unnamed: 0', axis=1, inplace=True)"
   ]
  },
  {
   "cell_type": "code",
   "execution_count": 70,
   "metadata": {},
   "outputs": [],
   "source": [
    "# Drop the Geo_Code feature as it contains over 1000 unique values and might not be relevant to our model\n",
    "train_df.drop('Geo_Code', axis=1, inplace=True)\n",
    "test_df.drop('Geo_Code', axis=1, inplace=True)"
   ]
  },
  {
   "cell_type": "code",
   "execution_count": 71,
   "metadata": {
    "scrolled": true
   },
   "outputs": [
    {
     "name": "stdout",
     "output_type": "stream",
     "text": [
      "<class 'pandas.core.frame.DataFrame'>\n",
      "RangeIndex: 7160 entries, 0 to 7159\n",
      "Data columns (total 11 columns):\n",
      " #   Column                        Non-Null Count  Dtype  \n",
      "---  ------                        --------------  -----  \n",
      " 0   Building_Painted              7160 non-null   object \n",
      " 1   Building Dimension            7160 non-null   float64\n",
      " 2   Building_Type                 7160 non-null   int64  \n",
      " 3   Claim                         7160 non-null   int64  \n",
      " 4   Windows                       7160 non-null   int64  \n",
      " 5   Building Dimensionis missing  7160 non-null   bool   \n",
      " 6   Date_of_Occupancyis missing   7160 non-null   bool   \n",
      " 7   Insured_time                  7160 non-null   int64  \n",
      " 8   Building_Class                7160 non-null   object \n",
      " 9   Building_category             7160 non-null   object \n",
      " 10  Building_age                  7160 non-null   float64\n",
      "dtypes: bool(2), float64(2), int64(4), object(3)\n",
      "memory usage: 517.5+ KB\n",
      "<class 'pandas.core.frame.DataFrame'>\n",
      "RangeIndex: 3069 entries, 0 to 3068\n",
      "Data columns (total 10 columns):\n",
      " #   Column                        Non-Null Count  Dtype  \n",
      "---  ------                        --------------  -----  \n",
      " 0   Building_Painted              3069 non-null   object \n",
      " 1   Building Dimension            3069 non-null   float64\n",
      " 2   Building_Type                 3069 non-null   int64  \n",
      " 3   Windows                       3069 non-null   int64  \n",
      " 4   Building Dimensionis missing  3069 non-null   bool   \n",
      " 5   Date_of_Occupancyis missing   3069 non-null   bool   \n",
      " 6   Insured_time                  3069 non-null   int64  \n",
      " 7   Building_Class                3069 non-null   object \n",
      " 8   Building_category             3069 non-null   object \n",
      " 9   Building_age                  3069 non-null   float64\n",
      "dtypes: bool(2), float64(2), int64(3), object(3)\n",
      "memory usage: 197.9+ KB\n"
     ]
    }
   ],
   "source": [
    "train_df.info()\n",
    "test_df.info()"
   ]
  },
  {
   "cell_type": "markdown",
   "metadata": {},
   "source": [
    "## 3.0 DEFINE THE TARGET AND THE INPUT VARIABLES"
   ]
  },
  {
   "cell_type": "code",
   "execution_count": 72,
   "metadata": {},
   "outputs": [],
   "source": [
    "target = train_df['Claim']\n",
    "input_var = train_df.drop('Claim', axis=1)"
   ]
  },
  {
   "cell_type": "code",
   "execution_count": 73,
   "metadata": {},
   "outputs": [
    {
     "name": "stdout",
     "output_type": "stream",
     "text": [
      "<class 'pandas.core.frame.DataFrame'>\n",
      "RangeIndex: 7160 entries, 0 to 7159\n",
      "Data columns (total 10 columns):\n",
      " #   Column                        Non-Null Count  Dtype  \n",
      "---  ------                        --------------  -----  \n",
      " 0   Building_Painted              7160 non-null   object \n",
      " 1   Building Dimension            7160 non-null   float64\n",
      " 2   Building_Type                 7160 non-null   int64  \n",
      " 3   Windows                       7160 non-null   int64  \n",
      " 4   Building Dimensionis missing  7160 non-null   bool   \n",
      " 5   Date_of_Occupancyis missing   7160 non-null   bool   \n",
      " 6   Insured_time                  7160 non-null   int64  \n",
      " 7   Building_Class                7160 non-null   object \n",
      " 8   Building_category             7160 non-null   object \n",
      " 9   Building_age                  7160 non-null   float64\n",
      "dtypes: bool(2), float64(2), int64(3), object(3)\n",
      "memory usage: 461.6+ KB\n"
     ]
    }
   ],
   "source": [
    "input_var.info()"
   ]
  },
  {
   "cell_type": "code",
   "execution_count": 74,
   "metadata": {},
   "outputs": [
    {
     "data": {
      "text/plain": [
       "0       0\n",
       "1       0\n",
       "2       0\n",
       "3       0\n",
       "4       0\n",
       "       ..\n",
       "7155    0\n",
       "7156    1\n",
       "7157    0\n",
       "7158    0\n",
       "7159    0\n",
       "Name: Claim, Length: 7160, dtype: int64"
      ]
     },
     "execution_count": 74,
     "metadata": {},
     "output_type": "execute_result"
    }
   ],
   "source": [
    "target"
   ]
  },
  {
   "cell_type": "markdown",
   "metadata": {},
   "source": [
    "## 4.0 SPLIT DATA INTO TRAIN AND TEST"
   ]
  },
  {
   "cell_type": "code",
   "execution_count": 79,
   "metadata": {},
   "outputs": [],
   "source": [
    "X_train, X_test, y_train, y_test = train_test_split(input_var,target)"
   ]
  },
  {
   "cell_type": "markdown",
   "metadata": {},
   "source": [
    "## 5.0 CATEGORICAL ENCODING AND FEATURE SCALING"
   ]
  },
  {
   "cell_type": "code",
   "execution_count": 80,
   "metadata": {},
   "outputs": [],
   "source": [
    "#get the categorical features\n",
    "\n",
    "cat = (X_train.dtypes == 'object')\n",
    "cat = list(cat[cat].index)"
   ]
  },
  {
   "cell_type": "code",
   "execution_count": 81,
   "metadata": {},
   "outputs": [],
   "source": [
    "#get the numerical features\n",
    "\n",
    "num = (X_train.dtypes != 'object')\n",
    "num = list(num[num].index)"
   ]
  },
  {
   "cell_type": "code",
   "execution_count": 82,
   "metadata": {},
   "outputs": [],
   "source": [
    "# Use sickit-learn column transformer to perform both operations\n",
    "from sklearn.compose import make_column_transformer\n",
    "\n",
    "column_trans = make_column_transformer(\n",
    "         (OneHotEncoder(),cat), \n",
    "         (StandardScaler(),num), \n",
    "         remainder='passthrough')\n",
    "\n"
   ]
  },
  {
   "cell_type": "markdown",
   "metadata": {},
   "source": [
    "## 6.0 DECISON TREE ALGORITHM"
   ]
  },
  {
   "cell_type": "code",
   "execution_count": 16,
   "metadata": {},
   "outputs": [],
   "source": [
    "#ceate a pipeline for preprocessing and creating an instance of the model\n",
    "from sklearn.pipeline import Pipeline\n",
    "from sklearn.tree import DecisionTreeClassifier\n",
    "\n",
    "pipe = Pipeline([('preprocess',column_trans),('DecTree',DecisionTreeClassifier())])"
   ]
  },
  {
   "cell_type": "code",
   "execution_count": 40,
   "metadata": {},
   "outputs": [
    {
     "name": "stdout",
     "output_type": "stream",
     "text": [
      "train score is 0.6960893854748603 \n",
      "test score is 0.6709497206703912\n"
     ]
    }
   ],
   "source": [
    "#check the model performance using the train and test data set\n",
    "from sklearn.model_selection import cross_val_score\n",
    "\n",
    "train_score = cross_val_score(pipe,X_train,y_train,cv=10,scoring='accuracy').mean()\n",
    "test_score =  cross_val_score(pipe,X_test,y_test,cv=10,scoring='accuracy').mean()\n",
    "\n",
    "\n",
    "print('train score is {0} \\ntest score is {1}'.format(train_score,test_score))"
   ]
  },
  {
   "cell_type": "markdown",
   "metadata": {},
   "source": [
    "## 6.1 FIT PIPELINE INTO TRAIN DATA\n"
   ]
  },
  {
   "cell_type": "code",
   "execution_count": 42,
   "metadata": {},
   "outputs": [],
   "source": [
    "pipe.fit(X_train,y_train);"
   ]
  },
  {
   "cell_type": "markdown",
   "metadata": {},
   "source": [
    "## 6.2 MAKE PREDICTION WITH THE MODEL"
   ]
  },
  {
   "cell_type": "code",
   "execution_count": 18,
   "metadata": {},
   "outputs": [
    {
     "name": "stdout",
     "output_type": "stream",
     "text": [
      "mean absolute error is 0.29553072625698323 \n",
      "r2_score is -0.5916888129108819\n"
     ]
    }
   ],
   "source": [
    "y_predict = pipe.predict(X_test)\n",
    "\n",
    "mae = mean_absolute_error(y_predict,y_test)\n",
    "r2 = r2_score(y_predict,y_test)\n",
    "\n",
    "print('mean absolute error is {} \\nr2_score is {}'.format(mae,r2))"
   ]
  },
  {
   "cell_type": "markdown",
   "metadata": {},
   "source": [
    "## 6.3 OPTIMISING THE MODEL USING HYPERPARAMETER"
   ]
  },
  {
   "cell_type": "code",
   "execution_count": 24,
   "metadata": {},
   "outputs": [],
   "source": [
    "# declare hyperparameters to be used\n",
    "\n",
    "param_grids = [\n",
    "    {\n",
    "        'DecTree__criterion':['gini','entropy'],\n",
    "        'DecTree__splitter':['best','random'],\n",
    "        'DecTree__max_depth':np.linspace(1,35,5),\n",
    "        #'DecTree__min_sample_split':np.linspace(0.1,1,5),\n",
    "        #'DecTree__min_sample_leaf':np.linspace(0.1,0.5,5),\n",
    "        'DecTree__max_features':list(range(1,X_train.shape[0]))\n",
    "            \n",
    "}\n",
    "]"
   ]
  },
  {
   "cell_type": "code",
   "execution_count": 26,
   "metadata": {},
   "outputs": [],
   "source": [
    "from sklearn.model_selection import GridSearchCV\n",
    "\n",
    "best_fit = GridSearchCV(pipe,param_grid=param_grids,cv=2,verbose=10,n_jobs=-1)"
   ]
  },
  {
   "cell_type": "code",
   "execution_count": 27,
   "metadata": {},
   "outputs": [
    {
     "name": "stdout",
     "output_type": "stream",
     "text": [
      "Fitting 2 folds for each of 107380 candidates, totalling 214760 fits\n"
     ]
    },
    {
     "name": "stderr",
     "output_type": "stream",
     "text": [
      "[Parallel(n_jobs=-1)]: Using backend LokyBackend with 4 concurrent workers.\n",
      "[Parallel(n_jobs=-1)]: Done   5 tasks      | elapsed:    3.0s\n",
      "[Parallel(n_jobs=-1)]: Done  10 tasks      | elapsed:    3.1s\n",
      "[Parallel(n_jobs=-1)]: Done  17 tasks      | elapsed:    3.2s\n",
      "[Parallel(n_jobs=-1)]: Done  24 tasks      | elapsed:    3.3s\n",
      "[Parallel(n_jobs=-1)]: Batch computation too fast (0.1864s.) Setting batch_size=2.\n",
      "[Parallel(n_jobs=-1)]: Done  34 tasks      | elapsed:    3.4s\n",
      "[Parallel(n_jobs=-1)]: Batch computation too fast (0.1237s.) Setting batch_size=4.\n",
      "[Parallel(n_jobs=-1)]: Done  56 tasks      | elapsed:    3.7s\n",
      "[Parallel(n_jobs=-1)]: Done 100 tasks      | elapsed:    4.0s\n",
      "[Parallel(n_jobs=-1)]: Done 144 tasks      | elapsed:    4.3s\n",
      "[Parallel(n_jobs=-1)]: Done 196 tasks      | elapsed:    4.8s\n",
      "[Parallel(n_jobs=-1)]: Done 248 tasks      | elapsed:    5.2s\n",
      "[Parallel(n_jobs=-1)]: Done 308 tasks      | elapsed:    5.8s\n",
      "[Parallel(n_jobs=-1)]: Done 368 tasks      | elapsed:    6.2s\n",
      "[Parallel(n_jobs=-1)]: Done 436 tasks      | elapsed:    6.7s\n",
      "[Parallel(n_jobs=-1)]: Done 504 tasks      | elapsed:    7.2s\n",
      "[Parallel(n_jobs=-1)]: Done 580 tasks      | elapsed:    7.7s\n",
      "[Parallel(n_jobs=-1)]: Done 656 tasks      | elapsed:    8.2s\n",
      "[Parallel(n_jobs=-1)]: Done 740 tasks      | elapsed:    8.9s\n",
      "[Parallel(n_jobs=-1)]: Done 824 tasks      | elapsed:    9.5s\n",
      "[Parallel(n_jobs=-1)]: Done 916 tasks      | elapsed:   10.2s\n",
      "[Parallel(n_jobs=-1)]: Done 1008 tasks      | elapsed:   10.9s\n",
      "[Parallel(n_jobs=-1)]: Done 1108 tasks      | elapsed:   11.7s\n",
      "[Parallel(n_jobs=-1)]: Done 1208 tasks      | elapsed:   12.5s\n",
      "[Parallel(n_jobs=-1)]: Done 1316 tasks      | elapsed:   13.2s\n",
      "[Parallel(n_jobs=-1)]: Done 1424 tasks      | elapsed:   14.0s\n",
      "[Parallel(n_jobs=-1)]: Done 1540 tasks      | elapsed:   14.8s\n",
      "[Parallel(n_jobs=-1)]: Done 1656 tasks      | elapsed:   15.6s\n",
      "[Parallel(n_jobs=-1)]: Done 1780 tasks      | elapsed:   16.5s\n",
      "[Parallel(n_jobs=-1)]: Done 1904 tasks      | elapsed:   17.4s\n",
      "[Parallel(n_jobs=-1)]: Done 2036 tasks      | elapsed:   18.3s\n",
      "[Parallel(n_jobs=-1)]: Done 2168 tasks      | elapsed:   19.3s\n",
      "[Parallel(n_jobs=-1)]: Done 2308 tasks      | elapsed:   20.3s\n",
      "[Parallel(n_jobs=-1)]: Done 2448 tasks      | elapsed:   21.5s\n",
      "[Parallel(n_jobs=-1)]: Done 2596 tasks      | elapsed:   22.7s\n",
      "[Parallel(n_jobs=-1)]: Done 2744 tasks      | elapsed:   23.8s\n",
      "[Parallel(n_jobs=-1)]: Done 2900 tasks      | elapsed:   24.8s\n",
      "[Parallel(n_jobs=-1)]: Done 3056 tasks      | elapsed:   26.1s\n",
      "[Parallel(n_jobs=-1)]: Done 3220 tasks      | elapsed:   27.4s\n",
      "[Parallel(n_jobs=-1)]: Done 3384 tasks      | elapsed:   28.5s\n",
      "[Parallel(n_jobs=-1)]: Done 3556 tasks      | elapsed:   29.7s\n",
      "[Parallel(n_jobs=-1)]: Done 3728 tasks      | elapsed:   30.9s\n",
      "[Parallel(n_jobs=-1)]: Done 3908 tasks      | elapsed:   32.2s\n",
      "[Parallel(n_jobs=-1)]: Done 4088 tasks      | elapsed:   33.5s\n",
      "[Parallel(n_jobs=-1)]: Done 4276 tasks      | elapsed:   34.9s\n",
      "[Parallel(n_jobs=-1)]: Done 4464 tasks      | elapsed:   36.3s\n",
      "[Parallel(n_jobs=-1)]: Done 4660 tasks      | elapsed:   38.0s\n",
      "[Parallel(n_jobs=-1)]: Done 4856 tasks      | elapsed:   39.4s\n",
      "[Parallel(n_jobs=-1)]: Done 5060 tasks      | elapsed:   40.8s\n",
      "[Parallel(n_jobs=-1)]: Done 5264 tasks      | elapsed:   42.2s\n",
      "[Parallel(n_jobs=-1)]: Done 5476 tasks      | elapsed:   43.8s\n",
      "[Parallel(n_jobs=-1)]: Done 5688 tasks      | elapsed:   45.2s\n",
      "[Parallel(n_jobs=-1)]: Done 5908 tasks      | elapsed:   46.8s\n",
      "[Parallel(n_jobs=-1)]: Done 6128 tasks      | elapsed:   48.4s\n",
      "[Parallel(n_jobs=-1)]: Done 6356 tasks      | elapsed:   50.1s\n",
      "[Parallel(n_jobs=-1)]: Done 6584 tasks      | elapsed:   51.7s\n",
      "[Parallel(n_jobs=-1)]: Done 6820 tasks      | elapsed:   53.6s\n",
      "[Parallel(n_jobs=-1)]: Done 7056 tasks      | elapsed:   55.4s\n",
      "[Parallel(n_jobs=-1)]: Done 7300 tasks      | elapsed:   57.3s\n",
      "[Parallel(n_jobs=-1)]: Done 7544 tasks      | elapsed:   58.9s\n",
      "[Parallel(n_jobs=-1)]: Done 7796 tasks      | elapsed:  1.0min\n",
      "[Parallel(n_jobs=-1)]: Done 8048 tasks      | elapsed:  1.0min\n",
      "[Parallel(n_jobs=-1)]: Done 8308 tasks      | elapsed:  1.1min\n",
      "[Parallel(n_jobs=-1)]: Done 8568 tasks      | elapsed:  1.1min\n",
      "[Parallel(n_jobs=-1)]: Done 8836 tasks      | elapsed:  1.1min\n",
      "[Parallel(n_jobs=-1)]: Done 9104 tasks      | elapsed:  1.2min\n",
      "[Parallel(n_jobs=-1)]: Done 9380 tasks      | elapsed:  1.2min\n",
      "[Parallel(n_jobs=-1)]: Done 9656 tasks      | elapsed:  1.2min\n",
      "[Parallel(n_jobs=-1)]: Done 9940 tasks      | elapsed:  1.3min\n",
      "[Parallel(n_jobs=-1)]: Batch computation too fast (0.1994s.) Setting batch_size=8.\n",
      "[Parallel(n_jobs=-1)]: Done 10432 tasks      | elapsed:  1.3min\n",
      "[Parallel(n_jobs=-1)]: Done 11016 tasks      | elapsed:  1.4min\n",
      "[Parallel(n_jobs=-1)]: Done 11600 tasks      | elapsed:  1.4min\n",
      "[Parallel(n_jobs=-1)]: Done 12200 tasks      | elapsed:  1.5min\n",
      "[Parallel(n_jobs=-1)]: Done 12800 tasks      | elapsed:  1.6min\n",
      "[Parallel(n_jobs=-1)]: Done 13416 tasks      | elapsed:  1.6min\n",
      "[Parallel(n_jobs=-1)]: Done 14032 tasks      | elapsed:  1.7min\n",
      "[Parallel(n_jobs=-1)]: Done 14664 tasks      | elapsed:  1.8min\n",
      "[Parallel(n_jobs=-1)]: Done 15296 tasks      | elapsed:  1.9min\n",
      "[Parallel(n_jobs=-1)]: Done 15944 tasks      | elapsed:  1.9min\n",
      "[Parallel(n_jobs=-1)]: Done 16592 tasks      | elapsed:  2.0min\n",
      "[Parallel(n_jobs=-1)]: Done 17256 tasks      | elapsed:  2.1min\n",
      "[Parallel(n_jobs=-1)]: Done 17920 tasks      | elapsed:  2.2min\n",
      "[Parallel(n_jobs=-1)]: Done 18600 tasks      | elapsed:  2.3min\n",
      "[Parallel(n_jobs=-1)]: Done 19280 tasks      | elapsed:  2.3min\n",
      "[Parallel(n_jobs=-1)]: Done 19976 tasks      | elapsed:  2.4min\n",
      "[Parallel(n_jobs=-1)]: Done 20672 tasks      | elapsed:  2.5min\n",
      "[Parallel(n_jobs=-1)]: Done 21384 tasks      | elapsed:  2.6min\n",
      "[Parallel(n_jobs=-1)]: Done 22096 tasks      | elapsed:  2.7min\n",
      "[Parallel(n_jobs=-1)]: Done 22824 tasks      | elapsed:  2.8min\n",
      "[Parallel(n_jobs=-1)]: Done 23552 tasks      | elapsed:  2.8min\n",
      "[Parallel(n_jobs=-1)]: Done 24296 tasks      | elapsed:  2.9min\n",
      "[Parallel(n_jobs=-1)]: Done 25040 tasks      | elapsed:  3.0min\n",
      "[Parallel(n_jobs=-1)]: Done 25800 tasks      | elapsed:  3.1min\n",
      "[Parallel(n_jobs=-1)]: Done 26560 tasks      | elapsed:  3.2min\n",
      "[Parallel(n_jobs=-1)]: Done 27336 tasks      | elapsed:  3.3min\n",
      "[Parallel(n_jobs=-1)]: Done 28112 tasks      | elapsed:  3.4min\n",
      "[Parallel(n_jobs=-1)]: Done 28904 tasks      | elapsed:  3.5min\n",
      "[Parallel(n_jobs=-1)]: Done 29696 tasks      | elapsed:  3.6min\n",
      "[Parallel(n_jobs=-1)]: Done 30504 tasks      | elapsed:  3.7min\n",
      "[Parallel(n_jobs=-1)]: Done 31312 tasks      | elapsed:  3.8min\n",
      "[Parallel(n_jobs=-1)]: Done 32136 tasks      | elapsed:  3.9min\n",
      "[Parallel(n_jobs=-1)]: Done 32960 tasks      | elapsed:  4.0min\n",
      "[Parallel(n_jobs=-1)]: Done 33800 tasks      | elapsed:  4.1min\n",
      "[Parallel(n_jobs=-1)]: Done 34640 tasks      | elapsed:  4.2min\n",
      "[Parallel(n_jobs=-1)]: Done 35496 tasks      | elapsed:  4.3min\n",
      "[Parallel(n_jobs=-1)]: Done 36352 tasks      | elapsed:  4.4min\n",
      "[Parallel(n_jobs=-1)]: Done 37224 tasks      | elapsed:  4.5min\n",
      "[Parallel(n_jobs=-1)]: Done 38096 tasks      | elapsed:  4.5min\n",
      "[Parallel(n_jobs=-1)]: Done 38984 tasks      | elapsed:  4.6min\n",
      "[Parallel(n_jobs=-1)]: Done 39872 tasks      | elapsed:  4.7min\n",
      "[Parallel(n_jobs=-1)]: Done 40776 tasks      | elapsed:  4.8min\n",
      "[Parallel(n_jobs=-1)]: Done 41680 tasks      | elapsed:  5.0min\n",
      "[Parallel(n_jobs=-1)]: Done 42600 tasks      | elapsed:  5.1min\n",
      "[Parallel(n_jobs=-1)]: Done 43520 tasks      | elapsed:  5.2min\n",
      "[Parallel(n_jobs=-1)]: Done 44456 tasks      | elapsed:  5.3min\n",
      "[Parallel(n_jobs=-1)]: Done 45392 tasks      | elapsed:  5.4min\n",
      "[Parallel(n_jobs=-1)]: Done 46344 tasks      | elapsed:  5.5min\n",
      "[Parallel(n_jobs=-1)]: Done 47296 tasks      | elapsed:  5.6min\n",
      "[Parallel(n_jobs=-1)]: Done 48264 tasks      | elapsed:  5.7min\n",
      "[Parallel(n_jobs=-1)]: Done 49232 tasks      | elapsed:  5.8min\n",
      "[Parallel(n_jobs=-1)]: Done 50216 tasks      | elapsed:  5.9min\n",
      "[Parallel(n_jobs=-1)]: Done 51200 tasks      | elapsed:  6.1min\n",
      "[Parallel(n_jobs=-1)]: Done 52200 tasks      | elapsed:  6.2min\n",
      "[Parallel(n_jobs=-1)]: Done 53200 tasks      | elapsed:  6.3min\n",
      "[Parallel(n_jobs=-1)]: Done 54216 tasks      | elapsed:  6.4min\n",
      "[Parallel(n_jobs=-1)]: Done 55232 tasks      | elapsed:  6.5min\n",
      "[Parallel(n_jobs=-1)]: Done 56264 tasks      | elapsed:  6.6min\n"
     ]
    },
    {
     "name": "stderr",
     "output_type": "stream",
     "text": [
      "[Parallel(n_jobs=-1)]: Done 57296 tasks      | elapsed:  6.7min\n",
      "[Parallel(n_jobs=-1)]: Done 58344 tasks      | elapsed:  6.8min\n",
      "[Parallel(n_jobs=-1)]: Done 59392 tasks      | elapsed:  7.0min\n",
      "[Parallel(n_jobs=-1)]: Done 60456 tasks      | elapsed:  7.1min\n",
      "[Parallel(n_jobs=-1)]: Done 61520 tasks      | elapsed:  7.2min\n",
      "[Parallel(n_jobs=-1)]: Done 62600 tasks      | elapsed:  7.3min\n",
      "[Parallel(n_jobs=-1)]: Done 63680 tasks      | elapsed:  7.4min\n",
      "[Parallel(n_jobs=-1)]: Done 64776 tasks      | elapsed:  7.5min\n",
      "[Parallel(n_jobs=-1)]: Done 65872 tasks      | elapsed:  7.7min\n",
      "[Parallel(n_jobs=-1)]: Done 66984 tasks      | elapsed:  7.8min\n",
      "[Parallel(n_jobs=-1)]: Done 68096 tasks      | elapsed:  7.9min\n",
      "[Parallel(n_jobs=-1)]: Done 69224 tasks      | elapsed:  8.0min\n",
      "[Parallel(n_jobs=-1)]: Done 70352 tasks      | elapsed:  8.2min\n",
      "[Parallel(n_jobs=-1)]: Done 71496 tasks      | elapsed:  8.3min\n",
      "[Parallel(n_jobs=-1)]: Done 72640 tasks      | elapsed:  8.4min\n",
      "[Parallel(n_jobs=-1)]: Done 73800 tasks      | elapsed:  8.5min\n",
      "[Parallel(n_jobs=-1)]: Done 74960 tasks      | elapsed:  8.7min\n",
      "[Parallel(n_jobs=-1)]: Done 76136 tasks      | elapsed:  8.8min\n",
      "[Parallel(n_jobs=-1)]: Done 77312 tasks      | elapsed:  8.9min\n",
      "[Parallel(n_jobs=-1)]: Done 78504 tasks      | elapsed:  9.1min\n",
      "[Parallel(n_jobs=-1)]: Done 79696 tasks      | elapsed:  9.2min\n",
      "[Parallel(n_jobs=-1)]: Done 80904 tasks      | elapsed:  9.3min\n",
      "[Parallel(n_jobs=-1)]: Done 82112 tasks      | elapsed:  9.5min\n",
      "[Parallel(n_jobs=-1)]: Done 83336 tasks      | elapsed:  9.6min\n",
      "[Parallel(n_jobs=-1)]: Done 84560 tasks      | elapsed:  9.7min\n",
      "[Parallel(n_jobs=-1)]: Done 85800 tasks      | elapsed:  9.8min\n",
      "[Parallel(n_jobs=-1)]: Done 87040 tasks      | elapsed: 10.0min\n",
      "[Parallel(n_jobs=-1)]: Done 88296 tasks      | elapsed: 10.1min\n",
      "[Parallel(n_jobs=-1)]: Done 89552 tasks      | elapsed: 10.3min\n",
      "[Parallel(n_jobs=-1)]: Done 90824 tasks      | elapsed: 10.4min\n",
      "[Parallel(n_jobs=-1)]: Done 92096 tasks      | elapsed: 10.5min\n",
      "[Parallel(n_jobs=-1)]: Done 93384 tasks      | elapsed: 10.7min\n",
      "[Parallel(n_jobs=-1)]: Done 94672 tasks      | elapsed: 10.8min\n",
      "[Parallel(n_jobs=-1)]: Done 95976 tasks      | elapsed: 11.0min\n",
      "[Parallel(n_jobs=-1)]: Done 97280 tasks      | elapsed: 11.1min\n",
      "[Parallel(n_jobs=-1)]: Done 98600 tasks      | elapsed: 11.2min\n",
      "[Parallel(n_jobs=-1)]: Done 99920 tasks      | elapsed: 11.4min\n",
      "[Parallel(n_jobs=-1)]: Done 101256 tasks      | elapsed: 11.6min\n",
      "[Parallel(n_jobs=-1)]: Done 102592 tasks      | elapsed: 11.7min\n",
      "[Parallel(n_jobs=-1)]: Done 103944 tasks      | elapsed: 11.9min\n",
      "[Parallel(n_jobs=-1)]: Done 105296 tasks      | elapsed: 12.0min\n",
      "[Parallel(n_jobs=-1)]: Done 106664 tasks      | elapsed: 12.2min\n",
      "[Parallel(n_jobs=-1)]: Done 108032 tasks      | elapsed: 12.3min\n",
      "[Parallel(n_jobs=-1)]: Done 109416 tasks      | elapsed: 12.5min\n",
      "[Parallel(n_jobs=-1)]: Done 110800 tasks      | elapsed: 12.6min\n",
      "[Parallel(n_jobs=-1)]: Done 112200 tasks      | elapsed: 12.8min\n",
      "[Parallel(n_jobs=-1)]: Done 113600 tasks      | elapsed: 13.0min\n",
      "[Parallel(n_jobs=-1)]: Done 115016 tasks      | elapsed: 13.1min\n",
      "[Parallel(n_jobs=-1)]: Done 116432 tasks      | elapsed: 13.3min\n",
      "[Parallel(n_jobs=-1)]: Done 117864 tasks      | elapsed: 13.4min\n",
      "[Parallel(n_jobs=-1)]: Done 119296 tasks      | elapsed: 13.6min\n",
      "[Parallel(n_jobs=-1)]: Done 120744 tasks      | elapsed: 13.8min\n",
      "[Parallel(n_jobs=-1)]: Done 122192 tasks      | elapsed: 13.9min\n",
      "[Parallel(n_jobs=-1)]: Done 123656 tasks      | elapsed: 14.1min\n",
      "[Parallel(n_jobs=-1)]: Done 125120 tasks      | elapsed: 14.3min\n",
      "[Parallel(n_jobs=-1)]: Done 126600 tasks      | elapsed: 14.4min\n",
      "[Parallel(n_jobs=-1)]: Done 128080 tasks      | elapsed: 14.6min\n",
      "[Parallel(n_jobs=-1)]: Done 129576 tasks      | elapsed: 14.8min\n",
      "[Parallel(n_jobs=-1)]: Done 131072 tasks      | elapsed: 14.9min\n",
      "[Parallel(n_jobs=-1)]: Done 132584 tasks      | elapsed: 15.1min\n",
      "[Parallel(n_jobs=-1)]: Done 134096 tasks      | elapsed: 15.3min\n",
      "[Parallel(n_jobs=-1)]: Done 135624 tasks      | elapsed: 15.5min\n",
      "[Parallel(n_jobs=-1)]: Done 137152 tasks      | elapsed: 15.6min\n",
      "[Parallel(n_jobs=-1)]: Done 138696 tasks      | elapsed: 15.8min\n",
      "[Parallel(n_jobs=-1)]: Done 140240 tasks      | elapsed: 16.0min\n",
      "[Parallel(n_jobs=-1)]: Done 141800 tasks      | elapsed: 16.1min\n",
      "[Parallel(n_jobs=-1)]: Done 143360 tasks      | elapsed: 16.3min\n",
      "[Parallel(n_jobs=-1)]: Done 144936 tasks      | elapsed: 16.5min\n",
      "[Parallel(n_jobs=-1)]: Done 146512 tasks      | elapsed: 16.6min\n",
      "[Parallel(n_jobs=-1)]: Done 148104 tasks      | elapsed: 16.8min\n",
      "[Parallel(n_jobs=-1)]: Done 149696 tasks      | elapsed: 17.0min\n",
      "[Parallel(n_jobs=-1)]: Done 151304 tasks      | elapsed: 17.2min\n",
      "[Parallel(n_jobs=-1)]: Done 152912 tasks      | elapsed: 17.3min\n",
      "[Parallel(n_jobs=-1)]: Done 154536 tasks      | elapsed: 17.5min\n",
      "[Parallel(n_jobs=-1)]: Done 156160 tasks      | elapsed: 17.7min\n",
      "[Parallel(n_jobs=-1)]: Done 157800 tasks      | elapsed: 17.9min\n",
      "[Parallel(n_jobs=-1)]: Done 159440 tasks      | elapsed: 18.1min\n",
      "[Parallel(n_jobs=-1)]: Done 161096 tasks      | elapsed: 18.2min\n",
      "[Parallel(n_jobs=-1)]: Done 162752 tasks      | elapsed: 18.4min\n",
      "[Parallel(n_jobs=-1)]: Done 164424 tasks      | elapsed: 18.6min\n",
      "[Parallel(n_jobs=-1)]: Done 166096 tasks      | elapsed: 18.8min\n",
      "[Parallel(n_jobs=-1)]: Done 167784 tasks      | elapsed: 19.0min\n",
      "[Parallel(n_jobs=-1)]: Done 169472 tasks      | elapsed: 19.2min\n",
      "[Parallel(n_jobs=-1)]: Done 171176 tasks      | elapsed: 19.3min\n",
      "[Parallel(n_jobs=-1)]: Done 172880 tasks      | elapsed: 19.5min\n",
      "[Parallel(n_jobs=-1)]: Done 174600 tasks      | elapsed: 19.7min\n",
      "[Parallel(n_jobs=-1)]: Done 176320 tasks      | elapsed: 19.9min\n",
      "[Parallel(n_jobs=-1)]: Done 178056 tasks      | elapsed: 20.1min\n",
      "[Parallel(n_jobs=-1)]: Done 179792 tasks      | elapsed: 20.3min\n",
      "[Parallel(n_jobs=-1)]: Done 181544 tasks      | elapsed: 20.5min\n",
      "[Parallel(n_jobs=-1)]: Done 183296 tasks      | elapsed: 20.7min\n",
      "[Parallel(n_jobs=-1)]: Done 185064 tasks      | elapsed: 20.9min\n",
      "[Parallel(n_jobs=-1)]: Done 186832 tasks      | elapsed: 21.1min\n",
      "[Parallel(n_jobs=-1)]: Done 188616 tasks      | elapsed: 21.3min\n",
      "[Parallel(n_jobs=-1)]: Done 190400 tasks      | elapsed: 21.4min\n",
      "[Parallel(n_jobs=-1)]: Done 192200 tasks      | elapsed: 21.6min\n",
      "[Parallel(n_jobs=-1)]: Done 194000 tasks      | elapsed: 21.8min\n",
      "[Parallel(n_jobs=-1)]: Done 195816 tasks      | elapsed: 22.0min\n",
      "[Parallel(n_jobs=-1)]: Done 197632 tasks      | elapsed: 22.2min\n",
      "[Parallel(n_jobs=-1)]: Done 199464 tasks      | elapsed: 22.4min\n",
      "[Parallel(n_jobs=-1)]: Done 201296 tasks      | elapsed: 22.6min\n",
      "[Parallel(n_jobs=-1)]: Done 203144 tasks      | elapsed: 22.8min\n",
      "[Parallel(n_jobs=-1)]: Done 204992 tasks      | elapsed: 23.0min\n",
      "[Parallel(n_jobs=-1)]: Done 206856 tasks      | elapsed: 23.2min\n",
      "[Parallel(n_jobs=-1)]: Done 208720 tasks      | elapsed: 23.4min\n",
      "[Parallel(n_jobs=-1)]: Done 210600 tasks      | elapsed: 23.7min\n",
      "[Parallel(n_jobs=-1)]: Done 212480 tasks      | elapsed: 23.9min\n",
      "[Parallel(n_jobs=-1)]: Done 214376 tasks      | elapsed: 24.1min\n",
      "[Parallel(n_jobs=-1)]: Done 214760 out of 214760 | elapsed: 24.1min finished\n"
     ]
    },
    {
     "data": {
      "text/plain": [
       "GridSearchCV(cv=2,\n",
       "             estimator=Pipeline(steps=[('preprocess',\n",
       "                                        ColumnTransformer(remainder='passthrough',\n",
       "                                                          transformers=[('onehotencoder',\n",
       "                                                                         OneHotEncoder(),\n",
       "                                                                         ['Building_Painted',\n",
       "                                                                          'Building_Class',\n",
       "                                                                          'Building_category']),\n",
       "                                                                        ('standardscaler',\n",
       "                                                                         StandardScaler(),\n",
       "                                                                         ['Building '\n",
       "                                                                          'Dimension',\n",
       "                                                                          'Building_Type',\n",
       "                                                                          'Windows',\n",
       "                                                                          'Building '\n",
       "                                                                          'Dimensionis '\n",
       "                                                                          'missing',\n",
       "                                                                          'Date_of_Occupancyis '\n",
       "                                                                          'missing',\n",
       "                                                                          'Insured_time',\n",
       "                                                                          'Building_age'])])),\n",
       "                                       ('DecTree', DecisionTreeClassifier())]),\n",
       "             n_jobs=-1,\n",
       "             param_grid=[{'DecTree__criterion': ['gini', 'entropy'],\n",
       "                          'DecTree__max_depth': array([ 1. ,  9.5, 18. , 26.5, 35. ]),\n",
       "                          'DecTree__max_features': [1, 2, 3, 4, 5, 6, 7, 8, 9,\n",
       "                                                    10, 11, 12, 13, 14, 15, 16,\n",
       "                                                    17, 18, 19, 20, 21, 22, 23,\n",
       "                                                    24, 25, 26, 27, 28, 29, 30, ...],\n",
       "                          'DecTree__splitter': ['best', 'random']}],\n",
       "             verbose=10)"
      ]
     },
     "execution_count": 27,
     "metadata": {},
     "output_type": "execute_result"
    }
   ],
   "source": [
    "best_fit.fit(X_train,y_train)"
   ]
  },
  {
   "cell_type": "code",
   "execution_count": null,
   "metadata": {},
   "outputs": [],
   "source": []
  },
  {
   "cell_type": "code",
   "execution_count": null,
   "metadata": {},
   "outputs": [],
   "source": []
  },
  {
   "cell_type": "code",
   "execution_count": null,
   "metadata": {},
   "outputs": [],
   "source": []
  }
 ],
 "metadata": {
  "kernelspec": {
   "display_name": "Python 3",
   "language": "python",
   "name": "python3"
  },
  "language_info": {
   "codemirror_mode": {
    "name": "ipython",
    "version": 3
   },
   "file_extension": ".py",
   "mimetype": "text/x-python",
   "name": "python",
   "nbconvert_exporter": "python",
   "pygments_lexer": "ipython3",
   "version": "3.8.5"
  }
 },
 "nbformat": 4,
 "nbformat_minor": 4
}
