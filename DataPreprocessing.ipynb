{
 "cells": [
  {
   "cell_type": "markdown",
   "metadata": {},
   "source": [
    "## 1.0 IMPORT RELEVANT LIBRARIES\n"
   ]
  },
  {
   "cell_type": "code",
   "execution_count": 1,
   "metadata": {},
   "outputs": [],
   "source": [
    "import pandas as pd\n",
    "import numpy as np\n",
    "import seaborn as sns\n",
    "import matplotlib.pyplot as plt\n",
    "import warnings\n",
    "#warnings.filters('ignore')"
   ]
  },
  {
   "cell_type": "markdown",
   "metadata": {},
   "source": [
    "## 2.0 LOAD DATA"
   ]
  },
  {
   "cell_type": "code",
   "execution_count": 2,
   "metadata": {},
   "outputs": [],
   "source": [
    "train_data = pd.read_csv('C:/Users/user/Downloads/train_data.csv')\n",
    "test_data = pd.read_csv('C:/Users/user/Downloads/test_data.csv')"
   ]
  },
  {
   "cell_type": "code",
   "execution_count": 3,
   "metadata": {},
   "outputs": [
    {
     "name": "stdout",
     "output_type": "stream",
     "text": [
      "<class 'pandas.core.frame.DataFrame'>\n",
      "RangeIndex: 7160 entries, 0 to 7159\n",
      "Data columns (total 14 columns):\n",
      " #   Column              Non-Null Count  Dtype  \n",
      "---  ------              --------------  -----  \n",
      " 0   Customer Id         7160 non-null   object \n",
      " 1   YearOfObservation   7160 non-null   int64  \n",
      " 2   Insured_Period      7160 non-null   float64\n",
      " 3   Residential         7160 non-null   int64  \n",
      " 4   Building_Painted    7160 non-null   object \n",
      " 5   Building_Fenced     7160 non-null   object \n",
      " 6   Garden              7153 non-null   object \n",
      " 7   Settlement          7160 non-null   object \n",
      " 8   Building Dimension  7054 non-null   float64\n",
      " 9   Building_Type       7160 non-null   int64  \n",
      " 10  Date_of_Occupancy   6652 non-null   float64\n",
      " 11  NumberOfWindows     7160 non-null   object \n",
      " 12  Geo_Code            7058 non-null   object \n",
      " 13  Claim               7160 non-null   int64  \n",
      "dtypes: float64(3), int64(4), object(7)\n",
      "memory usage: 783.2+ KB\n"
     ]
    }
   ],
   "source": [
    "train_data.info()"
   ]
  },
  {
   "cell_type": "code",
   "execution_count": 4,
   "metadata": {},
   "outputs": [
    {
     "data": {
      "text/html": [
       "<div>\n",
       "<style scoped>\n",
       "    .dataframe tbody tr th:only-of-type {\n",
       "        vertical-align: middle;\n",
       "    }\n",
       "\n",
       "    .dataframe tbody tr th {\n",
       "        vertical-align: top;\n",
       "    }\n",
       "\n",
       "    .dataframe thead th {\n",
       "        text-align: right;\n",
       "    }\n",
       "</style>\n",
       "<table border=\"1\" class=\"dataframe\">\n",
       "  <thead>\n",
       "    <tr style=\"text-align: right;\">\n",
       "      <th></th>\n",
       "      <th>YearOfObservation</th>\n",
       "      <th>Insured_Period</th>\n",
       "      <th>Residential</th>\n",
       "      <th>Building Dimension</th>\n",
       "      <th>Building_Type</th>\n",
       "      <th>Date_of_Occupancy</th>\n",
       "      <th>Claim</th>\n",
       "    </tr>\n",
       "  </thead>\n",
       "  <tbody>\n",
       "    <tr>\n",
       "      <th>count</th>\n",
       "      <td>7160.000000</td>\n",
       "      <td>7160.000000</td>\n",
       "      <td>7160.000000</td>\n",
       "      <td>7054.000000</td>\n",
       "      <td>7160.000000</td>\n",
       "      <td>6652.000000</td>\n",
       "      <td>7160.000000</td>\n",
       "    </tr>\n",
       "    <tr>\n",
       "      <th>mean</th>\n",
       "      <td>2013.669553</td>\n",
       "      <td>0.909758</td>\n",
       "      <td>0.305447</td>\n",
       "      <td>1883.727530</td>\n",
       "      <td>2.186034</td>\n",
       "      <td>1964.456404</td>\n",
       "      <td>0.228212</td>\n",
       "    </tr>\n",
       "    <tr>\n",
       "      <th>std</th>\n",
       "      <td>1.383769</td>\n",
       "      <td>0.239756</td>\n",
       "      <td>0.460629</td>\n",
       "      <td>2278.157745</td>\n",
       "      <td>0.940632</td>\n",
       "      <td>36.002014</td>\n",
       "      <td>0.419709</td>\n",
       "    </tr>\n",
       "    <tr>\n",
       "      <th>min</th>\n",
       "      <td>2012.000000</td>\n",
       "      <td>0.000000</td>\n",
       "      <td>0.000000</td>\n",
       "      <td>1.000000</td>\n",
       "      <td>1.000000</td>\n",
       "      <td>1545.000000</td>\n",
       "      <td>0.000000</td>\n",
       "    </tr>\n",
       "    <tr>\n",
       "      <th>25%</th>\n",
       "      <td>2012.000000</td>\n",
       "      <td>0.997268</td>\n",
       "      <td>0.000000</td>\n",
       "      <td>528.000000</td>\n",
       "      <td>2.000000</td>\n",
       "      <td>1960.000000</td>\n",
       "      <td>0.000000</td>\n",
       "    </tr>\n",
       "    <tr>\n",
       "      <th>50%</th>\n",
       "      <td>2013.000000</td>\n",
       "      <td>1.000000</td>\n",
       "      <td>0.000000</td>\n",
       "      <td>1083.000000</td>\n",
       "      <td>2.000000</td>\n",
       "      <td>1970.000000</td>\n",
       "      <td>0.000000</td>\n",
       "    </tr>\n",
       "    <tr>\n",
       "      <th>75%</th>\n",
       "      <td>2015.000000</td>\n",
       "      <td>1.000000</td>\n",
       "      <td>1.000000</td>\n",
       "      <td>2289.750000</td>\n",
       "      <td>3.000000</td>\n",
       "      <td>1980.000000</td>\n",
       "      <td>0.000000</td>\n",
       "    </tr>\n",
       "    <tr>\n",
       "      <th>max</th>\n",
       "      <td>2016.000000</td>\n",
       "      <td>1.000000</td>\n",
       "      <td>1.000000</td>\n",
       "      <td>20940.000000</td>\n",
       "      <td>4.000000</td>\n",
       "      <td>2016.000000</td>\n",
       "      <td>1.000000</td>\n",
       "    </tr>\n",
       "  </tbody>\n",
       "</table>\n",
       "</div>"
      ],
      "text/plain": [
       "       YearOfObservation  Insured_Period  Residential  Building Dimension  \\\n",
       "count        7160.000000     7160.000000  7160.000000         7054.000000   \n",
       "mean         2013.669553        0.909758     0.305447         1883.727530   \n",
       "std             1.383769        0.239756     0.460629         2278.157745   \n",
       "min          2012.000000        0.000000     0.000000            1.000000   \n",
       "25%          2012.000000        0.997268     0.000000          528.000000   \n",
       "50%          2013.000000        1.000000     0.000000         1083.000000   \n",
       "75%          2015.000000        1.000000     1.000000         2289.750000   \n",
       "max          2016.000000        1.000000     1.000000        20940.000000   \n",
       "\n",
       "       Building_Type  Date_of_Occupancy        Claim  \n",
       "count    7160.000000        6652.000000  7160.000000  \n",
       "mean        2.186034        1964.456404     0.228212  \n",
       "std         0.940632          36.002014     0.419709  \n",
       "min         1.000000        1545.000000     0.000000  \n",
       "25%         2.000000        1960.000000     0.000000  \n",
       "50%         2.000000        1970.000000     0.000000  \n",
       "75%         3.000000        1980.000000     0.000000  \n",
       "max         4.000000        2016.000000     1.000000  "
      ]
     },
     "execution_count": 4,
     "metadata": {},
     "output_type": "execute_result"
    }
   ],
   "source": [
    "train_data.describe()"
   ]
  },
  {
   "cell_type": "code",
   "execution_count": 5,
   "metadata": {},
   "outputs": [
    {
     "name": "stdout",
     "output_type": "stream",
     "text": [
      "<class 'pandas.core.frame.DataFrame'>\n",
      "RangeIndex: 3069 entries, 0 to 3068\n",
      "Data columns (total 13 columns):\n",
      " #   Column              Non-Null Count  Dtype  \n",
      "---  ------              --------------  -----  \n",
      " 0   Customer Id         3069 non-null   object \n",
      " 1   YearOfObservation   3069 non-null   int64  \n",
      " 2   Insured_Period      3069 non-null   float64\n",
      " 3   Residential         3069 non-null   int64  \n",
      " 4   Building_Painted    3069 non-null   object \n",
      " 5   Building_Fenced     3069 non-null   object \n",
      " 6   Garden              3065 non-null   object \n",
      " 7   Settlement          3069 non-null   object \n",
      " 8   Building Dimension  3056 non-null   float64\n",
      " 9   Building_Type       3069 non-null   int64  \n",
      " 10  Date_of_Occupancy   2341 non-null   float64\n",
      " 11  NumberOfWindows     3069 non-null   object \n",
      " 12  Geo_Code            3056 non-null   object \n",
      "dtypes: float64(3), int64(3), object(7)\n",
      "memory usage: 311.8+ KB\n"
     ]
    }
   ],
   "source": [
    "test_data.info()"
   ]
  },
  {
   "cell_type": "code",
   "execution_count": 6,
   "metadata": {},
   "outputs": [
    {
     "data": {
      "text/html": [
       "<div>\n",
       "<style scoped>\n",
       "    .dataframe tbody tr th:only-of-type {\n",
       "        vertical-align: middle;\n",
       "    }\n",
       "\n",
       "    .dataframe tbody tr th {\n",
       "        vertical-align: top;\n",
       "    }\n",
       "\n",
       "    .dataframe thead th {\n",
       "        text-align: right;\n",
       "    }\n",
       "</style>\n",
       "<table border=\"1\" class=\"dataframe\">\n",
       "  <thead>\n",
       "    <tr style=\"text-align: right;\">\n",
       "      <th></th>\n",
       "      <th>YearOfObservation</th>\n",
       "      <th>Insured_Period</th>\n",
       "      <th>Residential</th>\n",
       "      <th>Building Dimension</th>\n",
       "      <th>Building_Type</th>\n",
       "      <th>Date_of_Occupancy</th>\n",
       "    </tr>\n",
       "  </thead>\n",
       "  <tbody>\n",
       "    <tr>\n",
       "      <th>count</th>\n",
       "      <td>3069.000000</td>\n",
       "      <td>3069.000000</td>\n",
       "      <td>3069.000000</td>\n",
       "      <td>3056.000000</td>\n",
       "      <td>3069.000000</td>\n",
       "      <td>2341.000000</td>\n",
       "    </tr>\n",
       "    <tr>\n",
       "      <th>mean</th>\n",
       "      <td>2013.593679</td>\n",
       "      <td>0.922806</td>\n",
       "      <td>0.224177</td>\n",
       "      <td>1666.790576</td>\n",
       "      <td>2.359400</td>\n",
       "      <td>1966.781717</td>\n",
       "    </tr>\n",
       "    <tr>\n",
       "      <th>std</th>\n",
       "      <td>1.372138</td>\n",
       "      <td>0.219066</td>\n",
       "      <td>0.417107</td>\n",
       "      <td>2251.180599</td>\n",
       "      <td>0.998464</td>\n",
       "      <td>25.238702</td>\n",
       "    </tr>\n",
       "    <tr>\n",
       "      <th>min</th>\n",
       "      <td>2012.000000</td>\n",
       "      <td>0.000000</td>\n",
       "      <td>0.000000</td>\n",
       "      <td>1.000000</td>\n",
       "      <td>1.000000</td>\n",
       "      <td>1750.000000</td>\n",
       "    </tr>\n",
       "    <tr>\n",
       "      <th>25%</th>\n",
       "      <td>2012.000000</td>\n",
       "      <td>1.000000</td>\n",
       "      <td>0.000000</td>\n",
       "      <td>470.000000</td>\n",
       "      <td>2.000000</td>\n",
       "      <td>1960.000000</td>\n",
       "    </tr>\n",
       "    <tr>\n",
       "      <th>50%</th>\n",
       "      <td>2013.000000</td>\n",
       "      <td>1.000000</td>\n",
       "      <td>0.000000</td>\n",
       "      <td>900.000000</td>\n",
       "      <td>2.000000</td>\n",
       "      <td>1968.000000</td>\n",
       "    </tr>\n",
       "    <tr>\n",
       "      <th>75%</th>\n",
       "      <td>2015.000000</td>\n",
       "      <td>1.000000</td>\n",
       "      <td>0.000000</td>\n",
       "      <td>1957.000000</td>\n",
       "      <td>3.000000</td>\n",
       "      <td>1980.000000</td>\n",
       "    </tr>\n",
       "    <tr>\n",
       "      <th>max</th>\n",
       "      <td>2016.000000</td>\n",
       "      <td>1.000000</td>\n",
       "      <td>1.000000</td>\n",
       "      <td>30745.000000</td>\n",
       "      <td>4.000000</td>\n",
       "      <td>2012.000000</td>\n",
       "    </tr>\n",
       "  </tbody>\n",
       "</table>\n",
       "</div>"
      ],
      "text/plain": [
       "       YearOfObservation  Insured_Period  Residential  Building Dimension  \\\n",
       "count        3069.000000     3069.000000  3069.000000         3056.000000   \n",
       "mean         2013.593679        0.922806     0.224177         1666.790576   \n",
       "std             1.372138        0.219066     0.417107         2251.180599   \n",
       "min          2012.000000        0.000000     0.000000            1.000000   \n",
       "25%          2012.000000        1.000000     0.000000          470.000000   \n",
       "50%          2013.000000        1.000000     0.000000          900.000000   \n",
       "75%          2015.000000        1.000000     0.000000         1957.000000   \n",
       "max          2016.000000        1.000000     1.000000        30745.000000   \n",
       "\n",
       "       Building_Type  Date_of_Occupancy  \n",
       "count    3069.000000        2341.000000  \n",
       "mean        2.359400        1966.781717  \n",
       "std         0.998464          25.238702  \n",
       "min         1.000000        1750.000000  \n",
       "25%         2.000000        1960.000000  \n",
       "50%         2.000000        1968.000000  \n",
       "75%         3.000000        1980.000000  \n",
       "max         4.000000        2012.000000  "
      ]
     },
     "execution_count": 6,
     "metadata": {},
     "output_type": "execute_result"
    }
   ],
   "source": [
    "test_data.describe()"
   ]
  },
  {
   "cell_type": "markdown",
   "metadata": {},
   "source": [
    "### 2.1 GET A LIST OF THE VARIABLES WITH MISSING DATA,SPLIT VARIABLES INTO NUMERICALAND CATEGORICAL"
   ]
  },
  {
   "cell_type": "code",
   "execution_count": 7,
   "metadata": {},
   "outputs": [
    {
     "name": "stdout",
     "output_type": "stream",
     "text": [
      "missing variables in train_data:\n",
      "['Garden', 'Building Dimension', 'Date_of_Occupancy', 'Geo_Code']\n",
      "missing variables in test_data:\n",
      "['Garden', 'Building Dimension', 'Date_of_Occupancy', 'Geo_Code']\n"
     ]
    }
   ],
   "source": [
    "# Get the list of missing varaiables\n",
    "nul_tr = (train_data.isnull().sum() != 0) #returns a bool(True for variable(column)with null vaues, False otherwise) \n",
    "missing_train = list(nul_tr[nul_tr].index) #return the index of only the True result(i.e has one or more null values)\n",
    "nul_te = (test_data.isnull().sum() != 0)\n",
    "missing_test = list(nul_te[nul_te].index)\n",
    "\n",
    "print(\"missing variables in train_data:\")\n",
    "print(missing_train)\n",
    "\n",
    "print(\"missing variables in test_data:\")\n",
    "print(missing_test)\n",
    "\n",
    "\n"
   ]
  },
  {
   "cell_type": "code",
   "execution_count": 8,
   "metadata": {},
   "outputs": [
    {
     "name": "stdout",
     "output_type": "stream",
     "text": [
      "Categorical variables:\n",
      "['Customer Id', 'Building_Painted', 'Building_Fenced', 'Garden', 'Settlement', 'NumberOfWindows', 'Geo_Code']\n",
      "Numerical Variables:\n",
      "['YearOfObservation', 'Insured_Period', 'Residential', 'Building Dimension', 'Building_Type', 'Date_of_Occupancy', 'Claim']\n"
     ]
    }
   ],
   "source": [
    "# Get list of categorical variables\n",
    "cat= (train_data.dtypes == 'object')\n",
    "categorical = list(cat[cat].index)\n",
    "cat_null = list(train_data.columns[train_data.isn])\n",
    "print(\"Categorical variables:\")\n",
    "print(categorical)\n",
    "\n",
    "#get list of numerical variables\n",
    "num= (train_data.dtypes != 'object' )\n",
    "numerical = list(num[num].index)\n",
    "print('Numerical Variables:')\n",
    "print(numerical)"
   ]
  },
  {
   "cell_type": "raw",
   "metadata": {},
   "source": [
    "There are 4 variables containing missing values, 2 of which are categorical variables-Garden,Geo_code-\n",
    "and other 2 are numerical variables - Building Dimension,Date_of_Occupancy"
   ]
  },
  {
   "cell_type": "code",
   "execution_count": 9,
   "metadata": {},
   "outputs": [],
   "source": [
    "#Split the missing into categorical and numerica\n",
    "missing_cat = []\n",
    "missing_num = []\n",
    "for i in train_data:\n",
    "    if i in missing_train and i in categorical:\n",
    "        missing_cat.append(i)\n",
    "    elif i in missing_train and i in numerical:\n",
    "        missing_num.append(i)\n",
    "\n",
    "#mis_cat = (i in missing_train and i in categorical)\n",
    "#missing_cat = list(mis_cat[mis_cat].index)\n",
    "#mis_num = (i in missing_train and i in numerical)\n",
    "#missing_num = list(mis_num[mis_num].index)"
   ]
  },
  {
   "cell_type": "markdown",
   "metadata": {},
   "source": [
    "## 3.0 EXPLORATORY DATA ANALYSIS"
   ]
  },
  {
   "cell_type": "markdown",
   "metadata": {},
   "source": [
    "### 3.1 UNIVARIATE DISTRIBUTION :CATEGORICAL VARIABLES"
   ]
  },
  {
   "cell_type": "code",
   "execution_count": 10,
   "metadata": {},
   "outputs": [],
   "source": [
    "# drop the Customer Id column\n",
    "\n",
    "train_data.drop('Customer Id',axis=1,inplace=True)\n",
    "test_data.drop('Customer Id',axis=1,inplace= True)"
   ]
  },
  {
   "cell_type": "code",
   "execution_count": 11,
   "metadata": {},
   "outputs": [],
   "source": [
    "# remove the Custome Id from the list of categorical variables\n",
    "\n",
    "categorical.remove('Customer Id')"
   ]
  },
  {
   "cell_type": "code",
   "execution_count": 12,
   "metadata": {},
   "outputs": [
    {
     "data": {
      "text/plain": [
       "['Building_Painted',\n",
       " 'Building_Fenced',\n",
       " 'Garden',\n",
       " 'Settlement',\n",
       " 'NumberOfWindows',\n",
       " 'Geo_Code']"
      ]
     },
     "execution_count": 12,
     "metadata": {},
     "output_type": "execute_result"
    }
   ],
   "source": [
    "categorical"
   ]
  },
  {
   "cell_type": "markdown",
   "metadata": {},
   "source": [
    "Building Type and Residential variable although have the int datatype, they are in fact categorical variables, so w include them in the list of categorical variables."
   ]
  },
  {
   "cell_type": "code",
   "execution_count": 13,
   "metadata": {},
   "outputs": [],
   "source": [
    "categorical.append('Building_Type')\n",
    "categorical.append('Residential')"
   ]
  },
  {
   "cell_type": "code",
   "execution_count": 14,
   "metadata": {
    "scrolled": false
   },
   "outputs": [
    {
     "data": {
      "image/png": "[encoded data removed]",
      "text/plain": [
       "<Figure size 402.375x360 with 1 Axes>"
      ]
     },
     "metadata": {
      "needs_background": "light"
     },
     "output_type": "display_data"
    },
    {
     "data": {
      "image/png": "[encoded data removed]",
      "text/plain": [
       "<Figure size 432x288 with 1 Axes>"
      ]
     },
     "metadata": {
      "needs_background": "light"
     },
     "output_type": "display_data"
    },
    {
     "data": {
      "image/png": "[encoded data removed]",
      "text/plain": [
       "<Figure size 402.375x360 with 1 Axes>"
      ]
     },
     "metadata": {
      "needs_background": "light"
     },
     "output_type": "display_data"
    },
    {
     "data": {
      "image/png": "[encoded data removed]",
      "text/plain": [
       "<Figure size 432x288 with 1 Axes>"
      ]
     },
     "metadata": {
      "needs_background": "light"
     },
     "output_type": "display_data"
    },
    {
     "data": {
      "image/png": "[encoded data removed]",
      "text/plain": [
       "<Figure size 402.375x360 with 1 Axes>"
      ]
     },
     "metadata": {
      "needs_background": "light"
     },
     "output_type": "display_data"
    },
    {
     "data": {
      "image/png": "[encoded data removed]",
      "text/plain": [
       "<Figure size 432x288 with 1 Axes>"
      ]
     },
     "metadata": {
      "needs_background": "light"
     },
     "output_type": "display_data"
    },
    {
     "data": {
      "image/png": "[encoded data removed]",
      "text/plain": [
       "<Figure size 402.375x360 with 1 Axes>"
      ]
     },
     "metadata": {
      "needs_background": "light"
     },
     "output_type": "display_data"
    },
    {
     "data": {
      "image/png": "[encoded data removed]",
      "text/plain": [
       "<Figure size 432x288 with 1 Axes>"
      ]
     },
     "metadata": {
      "needs_background": "light"
     },
     "output_type": "display_data"
    },
    {
     "data": {
      "image/png": "[encoded data removed]",
      "text/plain": [
       "<Figure size 402.375x360 with 1 Axes>"
      ]
     },
     "metadata": {
      "needs_background": "light"
     },
     "output_type": "display_data"
    },
    {
     "data": {
      "image/png": "[encoded data removed]",
      "text/plain": [
       "<Figure size 432x288 with 1 Axes>"
      ]
     },
     "metadata": {
      "needs_background": "light"
     },
     "output_type": "display_data"
    },
    {
     "data": {
      "image/png": "[encoded data removed]",
      "text/plain": [
       "<Figure size 402.375x360 with 1 Axes>"
      ]
     },
     "metadata": {
      "needs_background": "light"
     },
     "output_type": "display_data"
    },
    {
     "data": {
      "image/png": "[encoded data removed]",
      "text/plain": [
       "<Figure size 432x288 with 1 Axes>"
      ]
     },
     "metadata": {
      "needs_background": "light"
     },
     "output_type": "display_data"
    },
    {
     "data": {
      "image/png": "[encoded data removed]",
      "text/plain": [
       "<Figure size 402.375x360 with 1 Axes>"
      ]
     },
     "metadata": {
      "needs_background": "light"
     },
     "output_type": "display_data"
    },
    {
     "data": {
      "image/png": "[encoded data removed]",
      "text/plain": [
       "<Figure size 432x288 with 1 Axes>"
      ]
     },
     "metadata": {
      "needs_background": "light"
     },
     "output_type": "display_data"
    },
    {
     "data": {
      "image/png": "[encoded data removed]",
      "text/plain": [
       "<Figure size 402.375x360 with 1 Axes>"
      ]
     },
     "metadata": {
      "needs_background": "light"
     },
     "output_type": "display_data"
    },
    {
     "data": {
      "image/png": "[encoded data removed]",
      "text/plain": [
       "<Figure size 432x288 with 1 Axes>"
      ]
     },
     "metadata": {
      "needs_background": "light"
     },
     "output_type": "display_data"
    }
   ],
   "source": [
    "for i in categorical:\n",
    "    sns.catplot(data= train_data,x=i,kind='count',hue='Claim')\n",
    "    plt.show()\n",
    "    plt.title(i)"
   ]
  },
  {
   "cell_type": "code",
   "execution_count": 15,
   "metadata": {},
   "outputs": [
    {
     "data": {
      "image/png": "[encoded data removed]",
      "text/plain": [
       "<Figure size 288x288 with 1 Axes>"
      ]
     },
     "metadata": {
      "needs_background": "light"
     },
     "output_type": "display_data"
    },
    {
     "data": {
      "image/png": "[encoded data removed]",
      "text/plain": [
       "<Figure size 288x288 with 1 Axes>"
      ]
     },
     "metadata": {
      "needs_background": "light"
     },
     "output_type": "display_data"
    },
    {
     "data": {
      "image/png": "[encoded data removed]",
      "text/plain": [
       "<Figure size 288x288 with 1 Axes>"
      ]
     },
     "metadata": {
      "needs_background": "light"
     },
     "output_type": "display_data"
    },
    {
     "data": {
      "image/png": "[encoded data removed]",
      "text/plain": [
       "<Figure size 288x288 with 1 Axes>"
      ]
     },
     "metadata": {
      "needs_background": "light"
     },
     "output_type": "display_data"
    },
    {
     "data": {
      "image/png": "[encoded data removed]",
      "text/plain": [
       "<Figure size 288x288 with 1 Axes>"
      ]
     },
     "metadata": {
      "needs_background": "light"
     },
     "output_type": "display_data"
    },
    {
     "data": {
      "image/png": "[encoded data removed]",
      "text/plain": [
       "<Figure size 288x288 with 1 Axes>"
      ]
     },
     "metadata": {
      "needs_background": "light"
     },
     "output_type": "display_data"
    },
    {
     "data": {
      "image/png": "[encoded data removed]",
      "text/plain": [
       "<Figure size 288x288 with 1 Axes>"
      ]
     },
     "metadata": {
      "needs_background": "light"
     },
     "output_type": "display_data"
    },
    {
     "data": {
      "image/png": "[encoded data removed]",
      "text/plain": [
       "<Figure size 288x288 with 1 Axes>"
      ]
     },
     "metadata": {
      "needs_background": "light"
     },
     "output_type": "display_data"
    }
   ],
   "source": [
    "for i in categorical:\n",
    "    name = pd.crosstab(train_data[i],train_data['Claim'])\n",
    "    name.div(name.sum(1).astype(float),axis=0).plot(kind='bar',stacked=True,figsize=(4,4))\n",
    "    plt.show()"
   ]
  },
  {
   "cell_type": "markdown",
   "metadata": {},
   "source": [
    "for the Building Painted variable, about 70% of the buildings are painted while others are not.\n",
    "for the Building Fenced variable, its about a 50/50 distribution, deto for Garden,Residential and Setllement. We can thus create a new variable combining the trio\n",
    "for the NumberOfWindows variable, the distribution between the Claim value for each of the values of the column seems uniform for 9$>10,8&7,1,2$3,4,5$6, . We can thus combine those values as 1 for the variables\n",
    "The Geo_Code column seems like a standalone variable, sharing no similarities with other column."
   ]
  },
  {
   "cell_type": "markdown",
   "metadata": {},
   "source": [
    "### 3.2 DEALING WITH INDIVIDUAL CATEGORICAL VARIABLES"
   ]
  },
  {
   "cell_type": "markdown",
   "metadata": {},
   "source": [
    "#### 3.2.1 BUILDING PAINTED"
   ]
  },
  {
   "cell_type": "code",
   "execution_count": 16,
   "metadata": {},
   "outputs": [
    {
     "data": {
      "text/plain": [
       "V    5382\n",
       "N    1778\n",
       "Name: Building_Painted, dtype: int64"
      ]
     },
     "execution_count": 16,
     "metadata": {},
     "output_type": "execute_result"
    }
   ],
   "source": [
    "train_data['Building_Painted'].value_counts()"
   ]
  },
  {
   "cell_type": "markdown",
   "metadata": {},
   "source": [
    "Since i decide to leave this variable as it is and it's not an ordinal variable, I would use One hot encoder for its encoding\n"
   ]
  },
  {
   "cell_type": "code",
   "execution_count": 17,
   "metadata": {},
   "outputs": [],
   "source": [
    "#train_data['Building_Painted'].map({'V':0,'N':1})"
   ]
  },
  {
   "cell_type": "markdown",
   "metadata": {},
   "source": [
    "#### 3.2.2 NUMBER OF WINDOWS VARIABLE"
   ]
  },
  {
   "cell_type": "code",
   "execution_count": 18,
   "metadata": {},
   "outputs": [
    {
     "data": {
      "text/plain": [
       "   .    3551\n",
       "4        939\n",
       "3        844\n",
       "5        639\n",
       "2        363\n",
       "6        306\n",
       "7        211\n",
       "8        116\n",
       "1         75\n",
       ">=10      67\n",
       "9         49\n",
       "Name: NumberOfWindows, dtype: int64"
      ]
     },
     "execution_count": 18,
     "metadata": {},
     "output_type": "execute_result"
    }
   ],
   "source": [
    "train_data['NumberOfWindows'].value_counts()"
   ]
  },
  {
   "cell_type": "markdown",
   "metadata": {},
   "source": [
    "The NumberOfWindows variable is an ordinal variable,so I can create a function to map it  "
   ]
  },
  {
   "cell_type": "code",
   "execution_count": 19,
   "metadata": {},
   "outputs": [
    {
     "name": "stdout",
     "output_type": "stream",
     "text": [
      "   YearOfObservation  Insured_Period  Residential Building_Painted  \\\n",
      "0               2013             1.0            0                N   \n",
      "\n",
      "  Building_Fenced Garden Settlement  Building Dimension  Building_Type  \\\n",
      "0               V      V          U               290.0              1   \n",
      "\n",
      "   Date_of_Occupancy NumberOfWindows Geo_Code  Claim  \n",
      "0             1960.0               .     1053      0  \n"
     ]
    }
   ],
   "source": [
    "print(train_data.head(1))"
   ]
  },
  {
   "cell_type": "code",
   "execution_count": 20,
   "metadata": {},
   "outputs": [],
   "source": [
    "def map_windows(data):\n",
    "    no_of_windows = data['NumberOfWindows']\n",
    "    \n",
    "    if no_of_windows == '1' or no_of_windows == '2'  or no_of_windows == '3':\n",
    "        return 1\n",
    "    elif no_of_windows == '4' or no_of_windows == '5' or no_of_windows == '6':\n",
    "        return 2\n",
    "    elif no_of_windows == '7' or no_of_windows == '8':\n",
    "        return 3\n",
    "    elif no_of_windows == '9' or no_of_windows == '>=10':\n",
    "        return 4 \n",
    "    else:\n",
    "        return 0"
   ]
  },
  {
   "cell_type": "code",
   "execution_count": 21,
   "metadata": {},
   "outputs": [],
   "source": [
    "train_data['Windows'] = train_data.apply(map_windows,axis=1)\n",
    "test_data['Windows'] = test_data.apply(map_windows,axis=1)"
   ]
  },
  {
   "cell_type": "code",
   "execution_count": 22,
   "metadata": {},
   "outputs": [
    {
     "data": {
      "text/plain": [
       "0    3551\n",
       "2    1884\n",
       "1    1282\n",
       "3     327\n",
       "4     116\n",
       "Name: Windows, dtype: int64"
      ]
     },
     "execution_count": 22,
     "metadata": {},
     "output_type": "execute_result"
    }
   ],
   "source": [
    "train_data['Windows'].value_counts()"
   ]
  },
  {
   "cell_type": "code",
   "execution_count": 23,
   "metadata": {},
   "outputs": [],
   "source": [
    "train_data.drop('NumberOfWindows',axis=1,inplace=True)\n",
    "test_data.drop('NumberOfWindows',axis=1,inplace=True)"
   ]
  },
  {
   "cell_type": "markdown",
   "metadata": {},
   "source": [
    "### 3.3 UNIVARIATE DISTRIBUTION: NUMERICAL VARIABLES"
   ]
  },
  {
   "cell_type": "code",
   "execution_count": 24,
   "metadata": {},
   "outputs": [
    {
     "data": {
      "image/png": "[encoded data removed]",
      "text/plain": [
       "<Figure size 432x288 with 1 Axes>"
      ]
     },
     "metadata": {
      "needs_background": "light"
     },
     "output_type": "display_data"
    },
    {
     "data": {
      "image/png": "[encoded data removed]",
      "text/plain": [
       "<Figure size 432x288 with 1 Axes>"
      ]
     },
     "metadata": {
      "needs_background": "light"
     },
     "output_type": "display_data"
    },
    {
     "data": {
      "image/png": "[encoded data removed]",
      "text/plain": [
       "<Figure size 432x288 with 1 Axes>"
      ]
     },
     "metadata": {
      "needs_background": "light"
     },
     "output_type": "display_data"
    },
    {
     "data": {
      "image/png": "[encoded data removed]",
      "text/plain": [
       "<Figure size 432x288 with 1 Axes>"
      ]
     },
     "metadata": {
      "needs_background": "light"
     },
     "output_type": "display_data"
    },
    {
     "data": {
      "image/png": "[encoded data removed]",
      "text/plain": [
       "<Figure size 432x288 with 1 Axes>"
      ]
     },
     "metadata": {
      "needs_background": "light"
     },
     "output_type": "display_data"
    },
    {
     "data": {
      "image/png": "[encoded data removed]",
      "text/plain": [
       "<Figure size 432x288 with 1 Axes>"
      ]
     },
     "metadata": {
      "needs_background": "light"
     },
     "output_type": "display_data"
    },
    {
     "data": {
      "image/png": "[encoded data removed]",
      "text/plain": [
       "<Figure size 432x288 with 1 Axes>"
      ]
     },
     "metadata": {
      "needs_background": "light"
     },
     "output_type": "display_data"
    },
    {
     "data": {
      "image/png": "[encoded data removed]",
      "text/plain": [
       "<Figure size 432x288 with 1 Axes>"
      ]
     },
     "metadata": {
      "needs_background": "light"
     },
     "output_type": "display_data"
    }
   ],
   "source": [
    "for i in numerical:\n",
    "    plt.hist(train_data[i])\n",
    "    plt.title(i)\n",
    "    plt.show()\n",
    "    plt.legend(train_data['Claim'])"
   ]
  },
  {
   "cell_type": "code",
   "execution_count": 25,
   "metadata": {},
   "outputs": [
    {
     "data": {
      "image/png": "[encoded data removed]",
      "text/plain": [
       "<Figure size 402.375x360 with 1 Axes>"
      ]
     },
     "metadata": {
      "needs_background": "light"
     },
     "output_type": "display_data"
    },
    {
     "data": {
      "image/png": "[encoded data removed]",
      "text/plain": [
       "<Figure size 402.375x360 with 1 Axes>"
      ]
     },
     "metadata": {
      "needs_background": "light"
     },
     "output_type": "display_data"
    },
    {
     "data": {
      "image/png": "[encoded data removed]",
      "text/plain": [
       "<Figure size 402.375x360 with 1 Axes>"
      ]
     },
     "metadata": {
      "needs_background": "light"
     },
     "output_type": "display_data"
    },
    {
     "data": {
      "image/png": "[encoded data removed]",
      "text/plain": [
       "<Figure size 402.375x360 with 1 Axes>"
      ]
     },
     "metadata": {
      "needs_background": "light"
     },
     "output_type": "display_data"
    },
    {
     "data": {
      "image/png": "[encoded data removed]",
      "text/plain": [
       "<Figure size 402.375x360 with 1 Axes>"
      ]
     },
     "metadata": {
      "needs_background": "light"
     },
     "output_type": "display_data"
    },
    {
     "data": {
      "image/png": "[encoded data removed]",
      "text/plain": [
       "<Figure size 402.375x360 with 1 Axes>"
      ]
     },
     "metadata": {
      "needs_background": "light"
     },
     "output_type": "display_data"
    },
    {
     "data": {
      "image/png": "[encoded data removed]",
      "text/plain": [
       "<Figure size 402.375x360 with 1 Axes>"
      ]
     },
     "metadata": {
      "needs_background": "light"
     },
     "output_type": "display_data"
    }
   ],
   "source": [
    "for i in numerical:\n",
    "    sns.displot(data=train_data,x=i,kind='ecdf',hue='Claim')\n",
    "    plt.title(i)\n",
    "    plt.show()"
   ]
  },
  {
   "cell_type": "code",
   "execution_count": 26,
   "metadata": {},
   "outputs": [
    {
     "data": {
      "image/png": "[encoded data removed]",
      "text/plain": [
       "<Figure size 432x288 with 1 Axes>"
      ]
     },
     "metadata": {
      "needs_background": "light"
     },
     "output_type": "display_data"
    },
    {
     "data": {
      "image/png": "[encoded data removed]",
      "text/plain": [
       "<Figure size 432x288 with 1 Axes>"
      ]
     },
     "metadata": {
      "needs_background": "light"
     },
     "output_type": "display_data"
    },
    {
     "data": {
      "image/png": "[encoded data removed]",
      "text/plain": [
       "<Figure size 432x288 with 1 Axes>"
      ]
     },
     "metadata": {
      "needs_background": "light"
     },
     "output_type": "display_data"
    },
    {
     "name": "stderr",
     "output_type": "stream",
     "text": [
      "C:\\Users\\user\\anaconda3\\lib\\site-packages\\numpy\\linalg\\linalg.py:2159: RuntimeWarning: invalid value encountered in det\n",
      "  r = _umath_linalg.det(a, signature=signature)\n",
      "C:\\Users\\user\\anaconda3\\lib\\site-packages\\numpy\\core\\_asarray.py:83: UserWarning: Warning: converting a masked element to nan.\n",
      "  return array(a, dtype, copy=False, order=order)\n"
     ]
    },
    {
     "data": {
      "image/png": "[encoded data removed]",
      "text/plain": [
       "<Figure size 432x288 with 1 Axes>"
      ]
     },
     "metadata": {
      "needs_background": "light"
     },
     "output_type": "display_data"
    },
    {
     "data": {
      "image/png": "[encoded data removed]",
      "text/plain": [
       "<Figure size 432x288 with 1 Axes>"
      ]
     },
     "metadata": {
      "needs_background": "light"
     },
     "output_type": "display_data"
    },
    {
     "data": {
      "image/png": "[encoded data removed]",
      "text/plain": [
       "<Figure size 432x288 with 1 Axes>"
      ]
     },
     "metadata": {
      "needs_background": "light"
     },
     "output_type": "display_data"
    },
    {
     "data": {
      "image/png": "[encoded data removed]",
      "text/plain": [
       "<Figure size 432x288 with 1 Axes>"
      ]
     },
     "metadata": {
      "needs_background": "light"
     },
     "output_type": "display_data"
    }
   ],
   "source": [
    "for i in numerical:\n",
    "    plt.violinplot(train_data[i])\n",
    "    plt.title(i)\n",
    "    plt.show()"
   ]
  },
  {
   "cell_type": "code",
   "execution_count": 27,
   "metadata": {},
   "outputs": [
    {
     "data": {
      "image/png": "[encoded data removed]",
      "text/plain": [
       "<Figure size 402.375x360 with 1 Axes>"
      ]
     },
     "metadata": {
      "needs_background": "light"
     },
     "output_type": "display_data"
    },
    {
     "data": {
      "image/png": "[encoded data removed]",
      "text/plain": [
       "<Figure size 402.375x360 with 1 Axes>"
      ]
     },
     "metadata": {
      "needs_background": "light"
     },
     "output_type": "display_data"
    },
    {
     "data": {
      "image/png": "[encoded data removed]",
      "text/plain": [
       "<Figure size 402.375x360 with 1 Axes>"
      ]
     },
     "metadata": {
      "needs_background": "light"
     },
     "output_type": "display_data"
    },
    {
     "data": {
      "image/png": "[encoded data removed]",
      "text/plain": [
       "<Figure size 402.375x360 with 1 Axes>"
      ]
     },
     "metadata": {
      "needs_background": "light"
     },
     "output_type": "display_data"
    },
    {
     "data": {
      "image/png": "[encoded data removed]",
      "text/plain": [
       "<Figure size 402.375x360 with 1 Axes>"
      ]
     },
     "metadata": {
      "needs_background": "light"
     },
     "output_type": "display_data"
    },
    {
     "data": {
      "image/png": "[encoded data removed]",
      "text/plain": [
       "<Figure size 402.375x360 with 1 Axes>"
      ]
     },
     "metadata": {
      "needs_background": "light"
     },
     "output_type": "display_data"
    },
    {
     "data": {
      "image/png": "[encoded data removed]",
      "text/plain": [
       "<Figure size 402.375x360 with 1 Axes>"
      ]
     },
     "metadata": {
      "needs_background": "light"
     },
     "output_type": "display_data"
    }
   ],
   "source": [
    "for i in numerical:\n",
    "    sns.displot(train_data,x=i,hue='Claim')\n",
    "    plt.title(i)\n",
    "    plt.show()"
   ]
  },
  {
   "cell_type": "markdown",
   "metadata": {},
   "source": [
    "It seems like for the Building dimension variable, values from 5000 and above have 0 has Claim value. \n",
    "we cann thus categorise all values above 5000 as one\n",
    "\n"
   ]
  },
  {
   "cell_type": "markdown",
   "metadata": {},
   "source": [
    "### 3.4 BIVARIATE DISTRIBUTION"
   ]
  },
  {
   "cell_type": "raw",
   "metadata": {},
   "source": [
    "for i in categorical:\n",
    "    sns.catplot(data=train_data,x=i,hue='Garden',y='Claim')\n",
    "    plt.title(i)"
   ]
  },
  {
   "cell_type": "markdown",
   "metadata": {},
   "source": [
    "## 4.0 DEALING WITH MISSING VALUES "
   ]
  },
  {
   "cell_type": "markdown",
   "metadata": {},
   "source": [
    "Remember that we have defined the missing categorical variables as well as the missing numerical variables as missing_cat and missing_num respectively. We can make reference to these two as we impute the null values.\n"
   ]
  },
  {
   "cell_type": "code",
   "execution_count": 28,
   "metadata": {},
   "outputs": [
    {
     "data": {
      "text/plain": [
       "['Garden', 'Geo_Code']"
      ]
     },
     "execution_count": 28,
     "metadata": {},
     "output_type": "execute_result"
    }
   ],
   "source": [
    "missing_cat"
   ]
  },
  {
   "cell_type": "code",
   "execution_count": 29,
   "metadata": {},
   "outputs": [
    {
     "data": {
      "text/plain": [
       "['Building Dimension', 'Date_of_Occupancy']"
      ]
     },
     "execution_count": 29,
     "metadata": {},
     "output_type": "execute_result"
    }
   ],
   "source": [
    "missing_num"
   ]
  },
  {
   "cell_type": "markdown",
   "metadata": {},
   "source": [
    "### 4.1 IMPUTING FOR CATEGORICAL VARIABLES HAVING NULL VALUES"
   ]
  },
  {
   "cell_type": "code",
   "execution_count": 30,
   "metadata": {
    "scrolled": true
   },
   "outputs": [
    {
     "data": {
      "text/plain": [
       "Garden                  7\n",
       "Building Dimension    106\n",
       "Date_of_Occupancy     508\n",
       "Geo_Code              102\n",
       "dtype: int64"
      ]
     },
     "execution_count": 30,
     "metadata": {},
     "output_type": "execute_result"
    }
   ],
   "source": [
    "train_data[missing_train].isnull().sum()"
   ]
  },
  {
   "cell_type": "code",
   "execution_count": 31,
   "metadata": {
    "scrolled": true
   },
   "outputs": [
    {
     "data": {
      "text/plain": [
       "Garden                  4\n",
       "Building Dimension     13\n",
       "Date_of_Occupancy     728\n",
       "Geo_Code               13\n",
       "dtype: int64"
      ]
     },
     "execution_count": 31,
     "metadata": {},
     "output_type": "execute_result"
    }
   ],
   "source": [
    "test_data[missing_test].isnull().sum()"
   ]
  },
  {
   "cell_type": "code",
   "execution_count": 32,
   "metadata": {},
   "outputs": [
    {
     "data": {
      "text/html": [
       "<div>\n",
       "<style scoped>\n",
       "    .dataframe tbody tr th:only-of-type {\n",
       "        vertical-align: middle;\n",
       "    }\n",
       "\n",
       "    .dataframe tbody tr th {\n",
       "        vertical-align: top;\n",
       "    }\n",
       "\n",
       "    .dataframe thead th {\n",
       "        text-align: right;\n",
       "    }\n",
       "</style>\n",
       "<table border=\"1\" class=\"dataframe\">\n",
       "  <thead>\n",
       "    <tr style=\"text-align: right;\">\n",
       "      <th></th>\n",
       "      <th>Garden</th>\n",
       "      <th>Geo_Code</th>\n",
       "    </tr>\n",
       "  </thead>\n",
       "  <tbody>\n",
       "    <tr>\n",
       "      <th>0</th>\n",
       "      <td>V</td>\n",
       "      <td>1053</td>\n",
       "    </tr>\n",
       "    <tr>\n",
       "      <th>1</th>\n",
       "      <td>O</td>\n",
       "      <td>1053</td>\n",
       "    </tr>\n",
       "    <tr>\n",
       "      <th>2</th>\n",
       "      <td>V</td>\n",
       "      <td>1053</td>\n",
       "    </tr>\n",
       "    <tr>\n",
       "      <th>3</th>\n",
       "      <td>V</td>\n",
       "      <td>1053</td>\n",
       "    </tr>\n",
       "    <tr>\n",
       "      <th>4</th>\n",
       "      <td>O</td>\n",
       "      <td>1053</td>\n",
       "    </tr>\n",
       "    <tr>\n",
       "      <th>...</th>\n",
       "      <td>...</td>\n",
       "      <td>...</td>\n",
       "    </tr>\n",
       "    <tr>\n",
       "      <th>7155</th>\n",
       "      <td>V</td>\n",
       "      <td>NaN</td>\n",
       "    </tr>\n",
       "    <tr>\n",
       "      <th>7156</th>\n",
       "      <td>V</td>\n",
       "      <td>NaN</td>\n",
       "    </tr>\n",
       "    <tr>\n",
       "      <th>7157</th>\n",
       "      <td>V</td>\n",
       "      <td>NaN</td>\n",
       "    </tr>\n",
       "    <tr>\n",
       "      <th>7158</th>\n",
       "      <td>V</td>\n",
       "      <td>NaN</td>\n",
       "    </tr>\n",
       "    <tr>\n",
       "      <th>7159</th>\n",
       "      <td>V</td>\n",
       "      <td>NaN</td>\n",
       "    </tr>\n",
       "  </tbody>\n",
       "</table>\n",
       "<p>7160 rows × 2 columns</p>\n",
       "</div>"
      ],
      "text/plain": [
       "     Garden Geo_Code\n",
       "0         V     1053\n",
       "1         O     1053\n",
       "2         V     1053\n",
       "3         V     1053\n",
       "4         O     1053\n",
       "...     ...      ...\n",
       "7155      V      NaN\n",
       "7156      V      NaN\n",
       "7157      V      NaN\n",
       "7158      V      NaN\n",
       "7159      V      NaN\n",
       "\n",
       "[7160 rows x 2 columns]"
      ]
     },
     "execution_count": 32,
     "metadata": {},
     "output_type": "execute_result"
    }
   ],
   "source": [
    "train_data[missing_cat]"
   ]
  },
  {
   "cell_type": "code",
   "execution_count": 33,
   "metadata": {},
   "outputs": [],
   "source": [
    "from sklearn.impute import SimpleImputer\n",
    "cat_transformer = SimpleImputer(strategy='most_frequent')\n",
    "train_data[missing_cat]=cat_transformer.fit_transform(train_data[missing_cat])\n",
    "test_data[missing_cat] = cat_transformer.fit_transform(test_data[missing_cat])"
   ]
  },
  {
   "cell_type": "code",
   "execution_count": 34,
   "metadata": {},
   "outputs": [
    {
     "data": {
      "text/html": [
       "<div>\n",
       "<style scoped>\n",
       "    .dataframe tbody tr th:only-of-type {\n",
       "        vertical-align: middle;\n",
       "    }\n",
       "\n",
       "    .dataframe tbody tr th {\n",
       "        vertical-align: top;\n",
       "    }\n",
       "\n",
       "    .dataframe thead th {\n",
       "        text-align: right;\n",
       "    }\n",
       "</style>\n",
       "<table border=\"1\" class=\"dataframe\">\n",
       "  <thead>\n",
       "    <tr style=\"text-align: right;\">\n",
       "      <th></th>\n",
       "      <th>Garden</th>\n",
       "      <th>Geo_Code</th>\n",
       "    </tr>\n",
       "  </thead>\n",
       "  <tbody>\n",
       "    <tr>\n",
       "      <th>0</th>\n",
       "      <td>V</td>\n",
       "      <td>1053</td>\n",
       "    </tr>\n",
       "    <tr>\n",
       "      <th>1</th>\n",
       "      <td>O</td>\n",
       "      <td>1053</td>\n",
       "    </tr>\n",
       "    <tr>\n",
       "      <th>2</th>\n",
       "      <td>V</td>\n",
       "      <td>1053</td>\n",
       "    </tr>\n",
       "    <tr>\n",
       "      <th>3</th>\n",
       "      <td>V</td>\n",
       "      <td>1053</td>\n",
       "    </tr>\n",
       "    <tr>\n",
       "      <th>4</th>\n",
       "      <td>O</td>\n",
       "      <td>1053</td>\n",
       "    </tr>\n",
       "    <tr>\n",
       "      <th>...</th>\n",
       "      <td>...</td>\n",
       "      <td>...</td>\n",
       "    </tr>\n",
       "    <tr>\n",
       "      <th>7155</th>\n",
       "      <td>V</td>\n",
       "      <td>6088</td>\n",
       "    </tr>\n",
       "    <tr>\n",
       "      <th>7156</th>\n",
       "      <td>V</td>\n",
       "      <td>6088</td>\n",
       "    </tr>\n",
       "    <tr>\n",
       "      <th>7157</th>\n",
       "      <td>V</td>\n",
       "      <td>6088</td>\n",
       "    </tr>\n",
       "    <tr>\n",
       "      <th>7158</th>\n",
       "      <td>V</td>\n",
       "      <td>6088</td>\n",
       "    </tr>\n",
       "    <tr>\n",
       "      <th>7159</th>\n",
       "      <td>V</td>\n",
       "      <td>6088</td>\n",
       "    </tr>\n",
       "  </tbody>\n",
       "</table>\n",
       "<p>7160 rows × 2 columns</p>\n",
       "</div>"
      ],
      "text/plain": [
       "     Garden Geo_Code\n",
       "0         V     1053\n",
       "1         O     1053\n",
       "2         V     1053\n",
       "3         V     1053\n",
       "4         O     1053\n",
       "...     ...      ...\n",
       "7155      V     6088\n",
       "7156      V     6088\n",
       "7157      V     6088\n",
       "7158      V     6088\n",
       "7159      V     6088\n",
       "\n",
       "[7160 rows x 2 columns]"
      ]
     },
     "execution_count": 34,
     "metadata": {},
     "output_type": "execute_result"
    }
   ],
   "source": [
    "train_data[missing_cat] "
   ]
  },
  {
   "cell_type": "code",
   "execution_count": 35,
   "metadata": {},
   "outputs": [
    {
     "data": {
      "text/plain": [
       "0"
      ]
     },
     "execution_count": 35,
     "metadata": {},
     "output_type": "execute_result"
    }
   ],
   "source": [
    "test_data['Geo_Code'].isnull().sum()"
   ]
  },
  {
   "cell_type": "markdown",
   "metadata": {},
   "source": [
    "### 4.2 IMPUTING FOR NUMERICAL VARIABLES HAVING NULL VALUES"
   ]
  },
  {
   "cell_type": "code",
   "execution_count": 36,
   "metadata": {},
   "outputs": [
    {
     "data": {
      "text/plain": [
       "Building Dimension    106\n",
       "Date_of_Occupancy     508\n",
       "dtype: int64"
      ]
     },
     "execution_count": 36,
     "metadata": {},
     "output_type": "execute_result"
    }
   ],
   "source": [
    "train_data[missing_num].isnull().sum()"
   ]
  },
  {
   "cell_type": "code",
   "execution_count": 37,
   "metadata": {},
   "outputs": [],
   "source": [
    "for i in train_data[missing_num]:\n",
    "    train_data[i].fillna(train_data[i].mean(),inplace=True)\n",
    "    train_data[i+'is missing'] = train_data[i].isnull()\n",
    "for i in test_data[missing_num]:\n",
    "    test_data[i].fillna(test_data[i].mean(),inplace=True)\n",
    "    test_data[i+'is missing'] = test_data[i].isnull()"
   ]
  },
  {
   "cell_type": "code",
   "execution_count": 38,
   "metadata": {},
   "outputs": [
    {
     "data": {
      "text/plain": [
       "Building Dimension    0\n",
       "Date_of_Occupancy     0\n",
       "dtype: int64"
      ]
     },
     "execution_count": 38,
     "metadata": {},
     "output_type": "execute_result"
    }
   ],
   "source": [
    "test_data[missing_num].isnull().sum()"
   ]
  },
  {
   "cell_type": "code",
   "execution_count": 39,
   "metadata": {},
   "outputs": [
    {
     "name": "stdout",
     "output_type": "stream",
     "text": [
      "<class 'pandas.core.frame.DataFrame'>\n",
      "RangeIndex: 7160 entries, 0 to 7159\n",
      "Data columns (total 15 columns):\n",
      " #   Column                        Non-Null Count  Dtype  \n",
      "---  ------                        --------------  -----  \n",
      " 0   YearOfObservation             7160 non-null   int64  \n",
      " 1   Insured_Period                7160 non-null   float64\n",
      " 2   Residential                   7160 non-null   int64  \n",
      " 3   Building_Painted              7160 non-null   object \n",
      " 4   Building_Fenced               7160 non-null   object \n",
      " 5   Garden                        7160 non-null   object \n",
      " 6   Settlement                    7160 non-null   object \n",
      " 7   Building Dimension            7160 non-null   float64\n",
      " 8   Building_Type                 7160 non-null   int64  \n",
      " 9   Date_of_Occupancy             7160 non-null   float64\n",
      " 10  Geo_Code                      7160 non-null   object \n",
      " 11  Claim                         7160 non-null   int64  \n",
      " 12  Windows                       7160 non-null   int64  \n",
      " 13  Building Dimensionis missing  7160 non-null   bool   \n",
      " 14  Date_of_Occupancyis missing   7160 non-null   bool   \n",
      "dtypes: bool(2), float64(3), int64(5), object(5)\n",
      "memory usage: 741.3+ KB\n"
     ]
    }
   ],
   "source": [
    "train_data.info()"
   ]
  },
  {
   "cell_type": "raw",
   "metadata": {},
   "source": [
    "from sklearn.impute import SimpleImputer\n",
    "num_transformer = SimpleImputer(strategy='mean',add_indicator=True)\n",
    "train_data[missing_num] = num_transformer.fit_transform(train_data[missing_num])\n",
    "test_data[missing_num] = num_transformer.fit_transform(test_data[missing_num])"
   ]
  },
  {
   "cell_type": "raw",
   "metadata": {},
   "source": [
    "from sklearn.impute import SimpleImputer\n",
    "from sklearn.pipeline import Pipeline\n",
    "from sklearn.preprocessing import OneHotEncoder\n",
    "from sklearn.compose import ColumnTransformer\n",
    "numerical_transformer = SimpleImputer(strategy='constant',add_indicator=True)\n",
    "categorical_trasformer = Pipeline(steps=[('imputer',SimpleImputer(strategy='most_frequent',add_indicator=True)),('onehot',OneHotEncoder(handle_unknown='ignore'))]\n",
    "\n",
    "#Budle preprocessing for numerical and categorical data\n",
    "preprocesor = ColumnTransformer([(\"num\", numerical_transformer, numerical),(\"cat\", categorical_trasformer, categorical)])\n"
   ]
  },
  {
   "cell_type": "code",
   "execution_count": 40,
   "metadata": {},
   "outputs": [
    {
     "data": {
      "text/html": [
       "<div>\n",
       "<style scoped>\n",
       "    .dataframe tbody tr th:only-of-type {\n",
       "        vertical-align: middle;\n",
       "    }\n",
       "\n",
       "    .dataframe tbody tr th {\n",
       "        vertical-align: top;\n",
       "    }\n",
       "\n",
       "    .dataframe thead th {\n",
       "        text-align: right;\n",
       "    }\n",
       "</style>\n",
       "<table border=\"1\" class=\"dataframe\">\n",
       "  <thead>\n",
       "    <tr style=\"text-align: right;\">\n",
       "      <th></th>\n",
       "      <th>Building Dimension</th>\n",
       "      <th>Date_of_Occupancy</th>\n",
       "    </tr>\n",
       "  </thead>\n",
       "  <tbody>\n",
       "    <tr>\n",
       "      <th>0</th>\n",
       "      <td>300.000000</td>\n",
       "      <td>1960.0</td>\n",
       "    </tr>\n",
       "    <tr>\n",
       "      <th>1</th>\n",
       "      <td>300.000000</td>\n",
       "      <td>1960.0</td>\n",
       "    </tr>\n",
       "    <tr>\n",
       "      <th>2</th>\n",
       "      <td>790.000000</td>\n",
       "      <td>1960.0</td>\n",
       "    </tr>\n",
       "    <tr>\n",
       "      <th>3</th>\n",
       "      <td>1405.000000</td>\n",
       "      <td>2004.0</td>\n",
       "    </tr>\n",
       "    <tr>\n",
       "      <th>4</th>\n",
       "      <td>1405.000000</td>\n",
       "      <td>2004.0</td>\n",
       "    </tr>\n",
       "    <tr>\n",
       "      <th>...</th>\n",
       "      <td>...</td>\n",
       "      <td>...</td>\n",
       "    </tr>\n",
       "    <tr>\n",
       "      <th>3064</th>\n",
       "      <td>1666.790576</td>\n",
       "      <td>1900.0</td>\n",
       "    </tr>\n",
       "    <tr>\n",
       "      <th>3065</th>\n",
       "      <td>1666.790576</td>\n",
       "      <td>1948.0</td>\n",
       "    </tr>\n",
       "    <tr>\n",
       "      <th>3066</th>\n",
       "      <td>1666.790576</td>\n",
       "      <td>1993.0</td>\n",
       "    </tr>\n",
       "    <tr>\n",
       "      <th>3067</th>\n",
       "      <td>1666.790576</td>\n",
       "      <td>1800.0</td>\n",
       "    </tr>\n",
       "    <tr>\n",
       "      <th>3068</th>\n",
       "      <td>1666.790576</td>\n",
       "      <td>1950.0</td>\n",
       "    </tr>\n",
       "  </tbody>\n",
       "</table>\n",
       "<p>3069 rows × 2 columns</p>\n",
       "</div>"
      ],
      "text/plain": [
       "      Building Dimension  Date_of_Occupancy\n",
       "0             300.000000             1960.0\n",
       "1             300.000000             1960.0\n",
       "2             790.000000             1960.0\n",
       "3            1405.000000             2004.0\n",
       "4            1405.000000             2004.0\n",
       "...                  ...                ...\n",
       "3064         1666.790576             1900.0\n",
       "3065         1666.790576             1948.0\n",
       "3066         1666.790576             1993.0\n",
       "3067         1666.790576             1800.0\n",
       "3068         1666.790576             1950.0\n",
       "\n",
       "[3069 rows x 2 columns]"
      ]
     },
     "execution_count": 40,
     "metadata": {},
     "output_type": "execute_result"
    }
   ],
   "source": [
    "test_data[missing_num]"
   ]
  },
  {
   "cell_type": "code",
   "execution_count": 41,
   "metadata": {},
   "outputs": [],
   "source": [
    "train_no_null = train_data.copy()\n",
    "test_no_null = test_data.copy()"
   ]
  },
  {
   "cell_type": "markdown",
   "metadata": {},
   "source": [
    "## 5.0 DEALING WITH OUTLIERS\n",
    "\n",
    "create a function to check for outliers"
   ]
  },
  {
   "cell_type": "code",
   "execution_count": 42,
   "metadata": {},
   "outputs": [
    {
     "name": "stdout",
     "output_type": "stream",
     "text": [
      "YearOfObservation\n",
      "Insured_Period\n",
      "Residential\n",
      "Building Dimension\n",
      "Building_Type\n",
      "Date_of_Occupancy\n",
      "Claim\n"
     ]
    }
   ],
   "source": [
    "for i in train_data[numerical]:\n",
    "    print(i)"
   ]
  },
  {
   "cell_type": "markdown",
   "metadata": {},
   "source": [
    "though there are five of the features with the int or float data type, however only 4 are real numerical variables(YearOfObservation,Insured_Period,Building Dimesion and Date_of_Occupancy), others are categorical variables \n",
    "\n",
    "We can thus remove the remaining 3(Residential,Building_Type,Claim) variables from the list and check for outliers on the reamining real numerical variables."
   ]
  },
  {
   "cell_type": "code",
   "execution_count": 43,
   "metadata": {},
   "outputs": [],
   "source": [
    "#numerical.remove(['Claim','Residential','Building_Type'])\n",
    "numerical.remove('Claim')\n",
    "numerical.remove('Residential')\n",
    "numerical.remove('Building_Type')"
   ]
  },
  {
   "cell_type": "markdown",
   "metadata": {},
   "source": [
    "Define a function to check for outliers"
   ]
  },
  {
   "cell_type": "code",
   "execution_count": 44,
   "metadata": {},
   "outputs": [],
   "source": [
    "def outliers(data,column):\n",
    "    from scipy.stats import iqr\n",
    "    result = []\n",
    "    for i in data[column]:\n",
    "        count=0\n",
    "        IQR = iqr(data[i])\n",
    "        Q = np.quantile(data[i],[0,0.25,0.5,0.75,1])\n",
    "        lower_threshold = np.quantile(data[i],0.25)-1.5*IQR\n",
    "        upper_threshold = np.quantile(data[i],0.75)+1.5*IQR\n",
    "        for k in data[i]:\n",
    "            if k<lower_threshold or k>upper_threshold:\n",
    "                count += 1\n",
    "            else:\n",
    "                count += 0\n",
    "        result.append(print(i,':outliers =',count,',lower_threshold =',lower_threshold ,',upper_threshold =',upper_threshold,\n",
    "                                'Q1 =',Q[1],',Q2 =',Q[2],',Q3 =',Q[3],',Q4 =',Q[4],',iqr =',IQR))\n",
    "        return result"
   ]
  },
  {
   "cell_type": "code",
   "execution_count": 45,
   "metadata": {},
   "outputs": [
    {
     "name": "stdout",
     "output_type": "stream",
     "text": [
      "YearOfObservation :outliers = 0 ,lower_threshold = 2007.5 ,upper_threshold = 2019.5 Q1 = 2012.0 ,Q2 = 2013.0 ,Q3 = 2015.0 ,Q4 = 2016.0 ,iqr = 3.0\n"
     ]
    },
    {
     "data": {
      "text/plain": [
       "[None]"
      ]
     },
     "execution_count": 45,
     "metadata": {},
     "output_type": "execute_result"
    }
   ],
   "source": [
    "outliers(train_no_null,numerical)"
   ]
  },
  {
   "cell_type": "markdown",
   "metadata": {},
   "source": [
    "So, YearOfObservation column has no outliers, Good...I am super happy, no stress...Not yet though, the other 3 columns has outliers but we can deal with it.\n",
    "\n",
    "As for the the Insured_Period variable, there are quite a number of outliers..over 5% of the total data.so it's not in our best interest to drop the outliers. A better alternative is to examine the column and merge and map since its an hierachical data.\n",
    "\n",
    "The Building Dimension and the Date_of_Occupancy column have outliers whose number are not so far off from each other. remember that both had missing data that we imputed already and we have 2 new bool columns showing the orginally missing values in each of the columns.\n",
    "\n",
    "As for the Building Dimension variable, the outliers are more than 5% of the total data, so we can't drop the outliers. Let's further inspect the column to see what we can do\n",
    "\n",
    "As for the Date_of_Occupancy column, it might be a good option to just create a new variable from it and the YearOfObservation columns and identify it as BUILDING AGE. The outliers might not be soo much if we do that...we can run the outlier test on the new variable and see if we would still need to make some ammedments\n",
    "\n",
    "Can we get started alreeaaddyyy!!!"
   ]
  },
  {
   "cell_type": "markdown",
   "metadata": {},
   "source": [
    "### 5.1 DEALING WITH THE individual NUMERICAL VARIABLES containing outliers"
   ]
  },
  {
   "cell_type": "markdown",
   "metadata": {},
   "source": [
    "#### 5.1.1 INSURED PERIOD variable"
   ]
  },
  {
   "cell_type": "code",
   "execution_count": 46,
   "metadata": {
    "scrolled": true
   },
   "outputs": [
    {
     "data": {
      "text/plain": [
       "1.000000    5325\n",
       "0.997268     547\n",
       "0.000000     165\n",
       "0.747945      60\n",
       "0.495890      49\n",
       "            ... \n",
       "0.680328       1\n",
       "0.819672       1\n",
       "0.792350       1\n",
       "0.378082       1\n",
       "0.803279       1\n",
       "Name: Insured_Period, Length: 401, dtype: int64"
      ]
     },
     "execution_count": 46,
     "metadata": {},
     "output_type": "execute_result"
    }
   ],
   "source": [
    "train_no_null['Insured_Period'].value_counts()"
   ]
  },
  {
   "cell_type": "code",
   "execution_count": 47,
   "metadata": {},
   "outputs": [
    {
     "data": {
      "image/png": "[encoded data removed]",
      "text/plain": [
       "<Figure size 432x288 with 1 Axes>"
      ]
     },
     "metadata": {
      "needs_background": "light"
     },
     "output_type": "display_data"
    }
   ],
   "source": [
    "plt.hist(train_no_null['Insured_Period'],orientation='horizontal')\n",
    "plt.show()"
   ]
  },
  {
   "cell_type": "markdown",
   "metadata": {},
   "source": [
    "From the value_counts as well as the violinplot and the histogram we visualized 3.4 above, it's obvious that most customers had a 1 year insurance period..about 74%, followed by 0.997268 that has about 8%, the 0.0 having about 2% while the remaining shares the remaining 16%.\n",
    "\n",
    "I would thus merge and map(label encoding sort of) the values in the column.\n",
    "(=0) --- 0\n",
    "(>0.1-<0.5)--1\n",
    "(>0.5-=0.99)---2\n",
    "(0.99-<1.0)---3\n",
    "(=1)---4"
   ]
  },
  {
   "cell_type": "code",
   "execution_count": 48,
   "metadata": {},
   "outputs": [],
   "source": [
    "def map_insured(data):\n",
    "    insured= data['Insured_Period']\n",
    "    if insured == 0:\n",
    "        return 0\n",
    "    elif insured>0 and insured<0.5:\n",
    "        return 1\n",
    "    elif insured>0.5 and insured<0.99:\n",
    "        return 2\n",
    "    elif insured>0.99 and insured<1:\n",
    "        return 3\n",
    "    else:\n",
    "        return 4"
   ]
  },
  {
   "cell_type": "code",
   "execution_count": 49,
   "metadata": {},
   "outputs": [],
   "source": [
    "train_no_null['Insured_time'] = train_data.apply(map_insured,axis=1)"
   ]
  },
  {
   "cell_type": "code",
   "execution_count": 50,
   "metadata": {},
   "outputs": [],
   "source": [
    "test_no_null['Insured_time'] = test_data.apply(map_insured,axis=1)"
   ]
  },
  {
   "cell_type": "code",
   "execution_count": 51,
   "metadata": {},
   "outputs": [
    {
     "data": {
      "text/plain": [
       "4    2389\n",
       "3     228\n",
       "1     222\n",
       "2     197\n",
       "0      33\n",
       "Name: Insured_time, dtype: int64"
      ]
     },
     "execution_count": 51,
     "metadata": {},
     "output_type": "execute_result"
    }
   ],
   "source": [
    "test_no_null['Insured_time'].value_counts()"
   ]
  },
  {
   "cell_type": "markdown",
   "metadata": {},
   "source": [
    "We can now drop the Insured_Period column from the data since we have created a new Insured_time column"
   ]
  },
  {
   "cell_type": "code",
   "execution_count": 52,
   "metadata": {},
   "outputs": [],
   "source": [
    "train_no_null.drop('Insured_Period',axis=1,inplace=True)\n",
    "test_no_null.drop('Insured_Period',axis=1,inplace=True)"
   ]
  },
  {
   "cell_type": "markdown",
   "metadata": {},
   "source": [
    "#### 5.1.2 BUILDING DIMENSION variable"
   ]
  },
  {
   "cell_type": "code",
   "execution_count": 53,
   "metadata": {},
   "outputs": [
    {
     "data": {
      "text/plain": [
       "400.0     150\n",
       "500.0     120\n",
       "300.0     118\n",
       "450.0     117\n",
       "600.0     114\n",
       "         ... \n",
       "211.0       1\n",
       "3324.0      1\n",
       "1228.0      1\n",
       "3762.0      1\n",
       "1734.0      1\n",
       "Name: Building Dimension, Length: 2044, dtype: int64"
      ]
     },
     "execution_count": 53,
     "metadata": {},
     "output_type": "execute_result"
    }
   ],
   "source": [
    "train_no_null['Building Dimension'].value_counts()"
   ]
  },
  {
   "cell_type": "code",
   "execution_count": 54,
   "metadata": {},
   "outputs": [
    {
     "data": {
      "text/plain": [
       "(array([5181., 1227.,  414.,  156.,   74.,   50.,   22.,   23.,    6.,\n",
       "           7.]),\n",
       " array([1.00000e+00, 2.09490e+03, 4.18880e+03, 6.28270e+03, 8.37660e+03,\n",
       "        1.04705e+04, 1.25644e+04, 1.46583e+04, 1.67522e+04, 1.88461e+04,\n",
       "        2.09400e+04]),\n",
       " <BarContainer object of 10 artists>)"
      ]
     },
     "execution_count": 54,
     "metadata": {},
     "output_type": "execute_result"
    },
    {
     "data": {
      "image/png": "[encoded data removed]",
      "text/plain": [
       "<Figure size 432x288 with 1 Axes>"
      ]
     },
     "metadata": {
      "needs_background": "light"
     },
     "output_type": "display_data"
    }
   ],
   "source": [
    "plt.hist(train_no_null['Building Dimension'])"
   ]
  },
  {
   "cell_type": "code",
   "execution_count": 55,
   "metadata": {},
   "outputs": [
    {
     "data": {
      "text/plain": [
       "20940.0"
      ]
     },
     "execution_count": 55,
     "metadata": {},
     "output_type": "execute_result"
    }
   ],
   "source": [
    "train_no_null['Building Dimension'].max()"
   ]
  },
  {
   "cell_type": "code",
   "execution_count": 56,
   "metadata": {},
   "outputs": [
    {
     "data": {
      "text/plain": [
       "1.0"
      ]
     },
     "execution_count": 56,
     "metadata": {},
     "output_type": "execute_result"
    }
   ],
   "source": [
    "train_no_null['Building Dimension'].min()"
   ]
  },
  {
   "cell_type": "code",
   "execution_count": 57,
   "metadata": {},
   "outputs": [
    {
     "data": {
      "text/plain": [
       "array([1.000e+00, 5.315e+02, 1.100e+03, 2.250e+03, 2.094e+04])"
      ]
     },
     "execution_count": 57,
     "metadata": {},
     "output_type": "execute_result"
    }
   ],
   "source": [
    "np.quantile(train_no_null['Building Dimension'],[0,0.25,0.5,0.75,1])"
   ]
  },
  {
   "cell_type": "code",
   "execution_count": 58,
   "metadata": {},
   "outputs": [
    {
     "data": {
      "text/plain": [
       "False"
      ]
     },
     "execution_count": 58,
     "metadata": {},
     "output_type": "execute_result"
    }
   ],
   "source": [
    "0< -2046.25"
   ]
  },
  {
   "cell_type": "markdown",
   "metadata": {},
   "source": [
    "count the number of values of Building DImension that are above 5000...this is to get the number of outliers we ca eventually remove."
   ]
  },
  {
   "cell_type": "markdown",
   "metadata": {},
   "source": [
    "The total number of outliers for this variable is 572, the lower threshold is -2046.25 while the upper threshold is 4827.75.The number of values below the lower threshold is 0 while that above the upper threshold is 572. The four quartiles are Q1 = 531.5 ,Q2 = 1100.0 ,Q3 = 2250.0 ,Q4 = 20940.0\n",
    "\n",
    "There is a problem for the lower threshold to be negative since the minimum value in the column is 1 and not even a negative value. Rather all the outliers fall in the greater than the upper threshold category\n",
    "\n",
    "Since all the outliers are greater than the upperthreshold, we can simply replace the outliers with the upperthreshold value which is 4827.75"
   ]
  },
  {
   "cell_type": "code",
   "execution_count": 59,
   "metadata": {},
   "outputs": [
    {
     "data": {
      "text/plain": [
       "1.0"
      ]
     },
     "execution_count": 59,
     "metadata": {},
     "output_type": "execute_result"
    }
   ],
   "source": [
    "train_no_null['Building Dimension'].min()"
   ]
  },
  {
   "cell_type": "code",
   "execution_count": 60,
   "metadata": {},
   "outputs": [
    {
     "name": "stdout",
     "output_type": "stream",
     "text": [
      "6510.0\n",
      "9570.0\n",
      "7063.0\n",
      "18000.0\n",
      "9920.0\n",
      "7887.0\n",
      "6300.0\n",
      "10573.0\n",
      "12900.0\n",
      "12900.0\n",
      "6984.0\n",
      "7223.0\n",
      "9400.0\n",
      "8400.0\n",
      "9500.0\n",
      "7300.0\n",
      "6650.0\n",
      "6650.0\n",
      "12721.0\n",
      "12721.0\n",
      "12721.0\n",
      "6600.0\n",
      "8265.0\n",
      "10600.0\n",
      "8000.0\n",
      "15000.0\n",
      "15000.0\n",
      "12470.0\n",
      "12961.0\n",
      "7291.0\n",
      "11547.0\n",
      "8570.0\n",
      "7460.0\n",
      "11000.0\n",
      "11000.0\n",
      "7838.0\n",
      "11380.0\n",
      "6410.0\n",
      "7480.0\n",
      "7700.0\n",
      "8641.0\n",
      "7186.0\n",
      "7500.0\n",
      "7200.0\n",
      "6317.0\n",
      "6500.0\n",
      "8000.0\n",
      "9999.0\n",
      "9999.0\n",
      "6459.0\n",
      "6900.0\n",
      "17860.0\n",
      "14950.0\n",
      "14950.0\n",
      "6980.0\n",
      "6260.0\n",
      "7344.0\n",
      "7344.0\n",
      "7200.0\n",
      "10686.0\n",
      "9000.0\n",
      "6468.0\n",
      "6468.0\n",
      "6800.0\n",
      "6657.0\n",
      "12500.0\n",
      "7259.0\n",
      "7259.0\n",
      "9122.0\n",
      "6766.0\n",
      "8485.0\n",
      "8485.0\n",
      "8485.0\n",
      "8100.0\n",
      "6300.0\n",
      "6300.0\n",
      "6300.0\n",
      "7500.0\n",
      "7500.0\n",
      "16859.0\n",
      "8900.0\n",
      "8960.0\n",
      "8960.0\n",
      "8500.0\n",
      "8500.0\n",
      "9618.0\n",
      "8820.0\n",
      "14200.0\n",
      "6628.0\n",
      "6628.0\n",
      "10840.0\n",
      "8950.0\n",
      "10200.0\n",
      "8796.0\n",
      "11037.0\n",
      "17800.0\n",
      "9609.0\n",
      "7900.0\n",
      "11958.0\n",
      "11958.0\n",
      "7200.0\n",
      "6920.0\n",
      "8140.0\n",
      "6959.0\n",
      "6959.0\n",
      "20940.0\n",
      "7750.0\n",
      "7750.0\n",
      "8015.0\n",
      "8015.0\n",
      "6180.0\n",
      "11925.0\n",
      "10954.0\n",
      "18950.0\n",
      "16149.0\n",
      "12448.0\n",
      "7036.0\n",
      "8700.0\n",
      "7055.0\n",
      "8900.0\n",
      "14120.0\n",
      "8697.0\n",
      "8916.0\n",
      "8350.0\n",
      "6896.0\n",
      "6896.0\n",
      "10173.0\n",
      "6500.0\n",
      "11000.0\n",
      "9000.0\n",
      "7302.0\n",
      "8957.0\n",
      "8893.0\n",
      "6252.0\n",
      "7500.0\n",
      "14472.0\n",
      "7863.0\n",
      "9125.0\n",
      "6500.0\n",
      "6500.0\n",
      "7100.0\n",
      "8000.0\n",
      "13280.0\n",
      "13280.0\n",
      "6400.0\n",
      "9500.0\n",
      "7300.0\n",
      "6206.0\n",
      "6300.0\n",
      "8200.0\n",
      "7500.0\n",
      "7500.0\n",
      "6500.0\n",
      "10426.0\n",
      "7055.0\n",
      "7660.0\n",
      "10000.0\n",
      "7580.0\n",
      "6576.0\n",
      "13122.0\n",
      "14600.0\n",
      "7857.0\n",
      "7857.0\n",
      "16218.0\n",
      "10948.0\n",
      "16459.0\n",
      "7400.0\n",
      "13030.0\n",
      "6500.0\n",
      "7861.0\n",
      "14350.0\n",
      "14350.0\n",
      "15000.0\n",
      "15000.0\n",
      "14805.0\n",
      "15620.0\n",
      "15620.0\n",
      "9182.0\n",
      "9182.0\n",
      "6250.0\n",
      "10900.0\n",
      "10900.0\n",
      "10900.0\n",
      "19195.0\n",
      "11389.0\n",
      "11768.0\n",
      "11000.0\n",
      "10207.0\n",
      "6270.0\n",
      "7200.0\n",
      "7200.0\n",
      "6600.0\n",
      "10300.0\n",
      "6375.0\n",
      "6851.0\n",
      "7988.0\n",
      "7988.0\n",
      "7500.0\n",
      "6417.0\n",
      "6417.0\n",
      "7000.0\n",
      "8000.0\n",
      "15580.0\n",
      "15580.0\n",
      "15580.0\n",
      "13004.0\n",
      "10438.0\n",
      "10438.0\n",
      "10438.0\n",
      "8670.0\n",
      "7073.0\n",
      "8800.0\n",
      "11014.0\n",
      "7100.0\n",
      "7100.0\n",
      "7100.0\n",
      "7100.0\n",
      "11900.0\n",
      "6890.0\n",
      "8382.0\n",
      "12473.0\n",
      "19495.0\n",
      "10600.0\n",
      "10600.0\n",
      "8500.0\n",
      "7678.0\n",
      "7678.0\n",
      "10648.0\n",
      "10648.0\n",
      "6700.0\n",
      "6700.0\n",
      "7823.0\n",
      "9432.0\n",
      "6850.0\n",
      "6800.0\n",
      "6950.0\n",
      "6950.0\n",
      "6203.0\n",
      "8550.0\n",
      "7595.0\n",
      "7595.0\n",
      "12800.0\n",
      "12800.0\n",
      "7930.0\n",
      "7500.0\n",
      "12615.0\n",
      "7612.0\n",
      "6880.0\n",
      "7246.0\n",
      "11626.0\n",
      "7160.0\n",
      "6780.0\n",
      "6780.0\n",
      "11810.0\n",
      "15026.0\n",
      "15026.0\n",
      "7000.0\n",
      "9994.0\n",
      "6315.0\n",
      "20000.0\n",
      "6204.0\n",
      "6325.0\n",
      "15917.0\n",
      "9390.0\n",
      "9390.0\n",
      "12053.0\n",
      "16811.0\n",
      "10732.0\n",
      "6738.0\n",
      "6600.0\n",
      "6600.0\n",
      "10620.0\n",
      "6800.0\n",
      "6307.0\n",
      "8150.0\n",
      "8150.0\n",
      "16347.0\n",
      "7400.0\n",
      "6486.0\n",
      "10310.0\n",
      "8982.0\n",
      "9474.0\n",
      "9000.0\n",
      "6489.0\n",
      "6489.0\n",
      "6160.0\n",
      "15860.0\n",
      "15860.0\n",
      "7382.0\n",
      "17000.0\n",
      "10000.0\n",
      "10000.0\n",
      "9000.0\n",
      "10900.0\n",
      "11300.0\n",
      "11300.0\n",
      "13777.0\n",
      "7023.0\n",
      "8436.0\n",
      "8436.0\n",
      "7550.0\n",
      "14906.0\n",
      "12474.0\n",
      "11007.0\n",
      "6300.0\n",
      "6280.0\n",
      "9449.0\n",
      "9449.0\n",
      "10142.0\n",
      "11516.0\n",
      "9100.0\n",
      "7600.0\n",
      "7000.0\n",
      "12582.0\n",
      "6410.0\n",
      "8018.0\n",
      "6813.0\n",
      "12287.0\n",
      "9277.0\n",
      "8377.0\n",
      "8377.0\n",
      "7592.0\n",
      "11760.0\n",
      "11760.0\n",
      "12310.0\n",
      "20818.0\n",
      "7500.0\n",
      "14950.0\n",
      "6671.0\n",
      "10818.0\n",
      "9481.0\n",
      "9481.0\n",
      "20840.0\n",
      "8382.0\n",
      "10967.0\n",
      "9654.0\n",
      "7973.0\n",
      "8612.0\n",
      "10500.0\n",
      "8281.0\n",
      "12000.0\n",
      "6658.0\n",
      "6410.0\n",
      "8100.0\n",
      "8100.0\n",
      "8150.0\n",
      "6900.0\n",
      "8150.0\n",
      "outlier_below_lower_thresh 0\n",
      "outlier_above_upper_thresh 348\n"
     ]
    }
   ],
   "source": [
    "x = train_no_null['Building Dimension']\n",
    "outlier_below_lower_thresh = 0\n",
    "outlier_above_upper_thresh = 0\n",
    "for i in x:\n",
    "    if i < -2046.25:\n",
    "        outlier_below_lower_thresh += 1\n",
    "for i in x:\n",
    "    if i >6150:\n",
    "        outlier_above_upper_thresh += 1\n",
    "        print(i)\n",
    "print('outlier_below_lower_thresh',outlier_below_lower_thresh)\n",
    "print('outlier_above_upper_thresh',outlier_above_upper_thresh)"
   ]
  },
  {
   "cell_type": "code",
   "execution_count": 61,
   "metadata": {},
   "outputs": [
    {
     "data": {
      "text/plain": [
       "400.0     150\n",
       "500.0     120\n",
       "300.0     118\n",
       "450.0     117\n",
       "600.0     114\n",
       "         ... \n",
       "211.0       1\n",
       "3324.0      1\n",
       "1228.0      1\n",
       "3762.0      1\n",
       "1734.0      1\n",
       "Name: Building Dimension, Length: 2044, dtype: int64"
      ]
     },
     "execution_count": 61,
     "metadata": {},
     "output_type": "execute_result"
    }
   ],
   "source": [
    "train_no_null['Building Dimension'].value_counts()"
   ]
  },
  {
   "cell_type": "code",
   "execution_count": 62,
   "metadata": {},
   "outputs": [],
   "source": [
    "train_no_null['Building Dimension'] = np.where((train_no_null['Building Dimension'] > 4827.75),4827.75,train_no_null['Building Dimension'])"
   ]
  },
  {
   "cell_type": "code",
   "execution_count": 63,
   "metadata": {},
   "outputs": [
    {
     "data": {
      "text/plain": [
       "4827.75    572\n",
       "400.00     150\n",
       "500.00     120\n",
       "300.00     118\n",
       "450.00     117\n",
       "          ... \n",
       "2875.00      1\n",
       "2830.00      1\n",
       "2285.00      1\n",
       "2423.00      1\n",
       "3335.00      1\n",
       "Name: Building Dimension, Length: 1677, dtype: int64"
      ]
     },
     "execution_count": 63,
     "metadata": {},
     "output_type": "execute_result"
    }
   ],
   "source": [
    "train_no_null['Building Dimension'].value_counts()"
   ]
  },
  {
   "cell_type": "code",
   "execution_count": 64,
   "metadata": {},
   "outputs": [
    {
     "data": {
      "text/plain": [
       "0"
      ]
     },
     "execution_count": 64,
     "metadata": {},
     "output_type": "execute_result"
    }
   ],
   "source": [
    "train_no_null['Building Dimension'].isnull().sum()"
   ]
  },
  {
   "cell_type": "code",
   "execution_count": 65,
   "metadata": {},
   "outputs": [
    {
     "name": "stdout",
     "output_type": "stream",
     "text": [
      "Building Dimension :outliers = 0 ,lower_threshold = -2046.25 ,upper_threshold = 4827.75 Q1 = 531.5 ,Q2 = 1100.0 ,Q3 = 2250.0 ,Q4 = 4827.75 ,iqr = 1718.5\n"
     ]
    },
    {
     "data": {
      "text/plain": [
       "[None]"
      ]
     },
     "execution_count": 65,
     "metadata": {},
     "output_type": "execute_result"
    }
   ],
   "source": [
    "Building = ['Building Dimension']\n",
    "outliers(train_no_null,Building)"
   ]
  },
  {
   "cell_type": "raw",
   "metadata": {},
   "source": [
    "x = train_no_null['Building Dimension']\n",
    "count = 0\n",
    "sum=0\n",
    "median =0\n",
    "for i in x:\n",
    "    if i> 4827.75 and i<6150:\n",
    "        count += 1\n",
    "        print(i)\n",
    "        sum += i\n",
    "        median = sum/count\n",
    "print(count,sum,median)\n"
   ]
  },
  {
   "cell_type": "markdown",
   "metadata": {},
   "source": [
    "#### 5.1.2 DATE_OF_OCCUPANCY variable"
   ]
  },
  {
   "cell_type": "code",
   "execution_count": 66,
   "metadata": {},
   "outputs": [
    {
     "name": "stdout",
     "output_type": "stream",
     "text": [
      "Date_of_Occupancy :outliers = 908 ,lower_threshold = 1930.0 ,upper_threshold = 2010.0 Q1 = 1960.0 ,Q2 = 1964.456404088996 ,Q3 = 1980.0 ,Q4 = 2016.0 ,iqr = 20.0\n"
     ]
    },
    {
     "data": {
      "text/plain": [
       "[None]"
      ]
     },
     "execution_count": 66,
     "metadata": {},
     "output_type": "execute_result"
    }
   ],
   "source": [
    "date = ['Date_of_Occupancy']\n",
    "outliers(train_no_null,date)"
   ]
  },
  {
   "cell_type": "code",
   "execution_count": 67,
   "metadata": {},
   "outputs": [
    {
     "data": {
      "text/plain": [
       "1960.000000    1818\n",
       "1980.000000    1155\n",
       "1988.000000     530\n",
       "1964.456404     508\n",
       "1900.000000     371\n",
       "               ... \n",
       "1919.000000       1\n",
       "1926.000000       1\n",
       "1938.000000       1\n",
       "1931.000000       1\n",
       "1927.000000       1\n",
       "Name: Date_of_Occupancy, Length: 135, dtype: int64"
      ]
     },
     "execution_count": 67,
     "metadata": {},
     "output_type": "execute_result"
    }
   ],
   "source": [
    "train_no_null['Date_of_Occupancy'].value_counts()"
   ]
  },
  {
   "cell_type": "code",
   "execution_count": 68,
   "metadata": {},
   "outputs": [
    {
     "data": {
      "image/png": "[encoded data removed]",
      "text/plain": [
       "<Figure size 432x288 with 1 Axes>"
      ]
     },
     "metadata": {
      "needs_background": "light"
     },
     "output_type": "display_data"
    }
   ],
   "source": [
    "plt.hist(train_no_null['Date_of_Occupancy'])\n",
    "plt.show()"
   ]
  },
  {
   "cell_type": "code",
   "execution_count": 69,
   "metadata": {},
   "outputs": [
    {
     "name": "stdout",
     "output_type": "stream",
     "text": [
      "665\n"
     ]
    }
   ],
   "source": [
    "x = train_no_null['Date_of_Occupancy']\n",
    "count = 0\n",
    "\n",
    "for i in x:\n",
    "    if i>1800 and i<1930:\n",
    "        count += 1\n",
    "    \n",
    "print(count)"
   ]
  },
  {
   "cell_type": "code",
   "execution_count": 70,
   "metadata": {},
   "outputs": [
    {
     "name": "stdout",
     "output_type": "stream",
     "text": [
      "832\n"
     ]
    }
   ],
   "source": [
    "for i in x:\n",
    "    if i==1930:\n",
    "        count += 1\n",
    "    \n",
    "print(count)"
   ]
  },
  {
   "cell_type": "markdown",
   "metadata": {},
   "source": [
    "Also the first quartile,Q1 is 1960 which is more than the lower threshold...I can thus replace all values below 1930 with 1800 or 1930 and I replace all values above 2010 which is the upper threshold with 2010\n",
    "\n",
    "there are 1320 values of the Date_of_Occupancy variable that are less than 1960\n",
    "there are 24 values of the Date_of_Occupancy variable that are less than 1800\n",
    "there are 175 values of the Date_of_Occupancy variable that are less than 1900\n",
    "\n",
    "The total nmber of outliers for this variable is 908, the lower threshold is 1930 while the upper threshold is 2010.The number of values below the lower threshold,1930 is 713 while that above the upper threshold,2010 is 195.\n",
    " \n",
    " I can thus replace all values below the lower threshold value,1930 with the lower thrshold value and replace values above the upper threshold with the upperthreshold value,2010."
   ]
  },
  {
   "cell_type": "code",
   "execution_count": 71,
   "metadata": {},
   "outputs": [],
   "source": [
    "train_no_null['Date_of_Occupancy'] = np.where((train_no_null['Date_of_Occupancy'] < 1930),1930,train_no_null['Date_of_Occupancy'])\n",
    "train_no_null['Date_of_Occupancy']= np.where((train_no_null['Date_of_Occupancy'] > 2010),2010,train_no_null['Date_of_Occupancy'])"
   ]
  },
  {
   "cell_type": "code",
   "execution_count": 72,
   "metadata": {},
   "outputs": [
    {
     "name": "stdout",
     "output_type": "stream",
     "text": [
      "Date_of_Occupancy :outliers = 0 ,lower_threshold = 1930.0 ,upper_threshold = 2010.0 Q1 = 1960.0 ,Q2 = 1964.456404088996 ,Q3 = 1980.0 ,Q4 = 2010.0 ,iqr = 20.0\n"
     ]
    },
    {
     "data": {
      "text/plain": [
       "[None]"
      ]
     },
     "execution_count": 72,
     "metadata": {},
     "output_type": "execute_result"
    }
   ],
   "source": [
    "outliers(train_no_null,date)"
   ]
  },
  {
   "cell_type": "code",
   "execution_count": 73,
   "metadata": {},
   "outputs": [
    {
     "data": {
      "text/plain": [
       "1960.000000    1818\n",
       "1980.000000    1155\n",
       "1930.000000     880\n",
       "1988.000000     530\n",
       "1964.456404     508\n",
       "               ... \n",
       "1938.000000       1\n",
       "1931.000000       1\n",
       "1946.000000       1\n",
       "1939.000000       1\n",
       "1934.000000       1\n",
       "Name: Date_of_Occupancy, Length: 77, dtype: int64"
      ]
     },
     "execution_count": 73,
     "metadata": {},
     "output_type": "execute_result"
    }
   ],
   "source": [
    "train_no_null['Date_of_Occupancy'].value_counts()"
   ]
  },
  {
   "cell_type": "markdown",
   "metadata": {},
   "source": [
    "## 6.0 FEATURE ENGINEERING"
   ]
  },
  {
   "cell_type": "markdown",
   "metadata": {},
   "source": [
    "### 6.1 CREATING A NEW FEATURE FROM BUILDING FENCED AND GARDEN "
   ]
  },
  {
   "cell_type": "code",
   "execution_count": 74,
   "metadata": {},
   "outputs": [],
   "source": [
    "def modern_old(data):\n",
    "    garden = data['Garden']\n",
    "    fenced = data['Building_Fenced']\n",
    "    if garden == 'V' and fenced == 'V': #Has garden and is not fenced\n",
    "        return 'old'\n",
    "    else:\n",
    "        #garden == 'O' and fenced == 'N':#has no garden but fenced\n",
    "        return 'modern'"
   ]
  },
  {
   "cell_type": "code",
   "execution_count": 75,
   "metadata": {},
   "outputs": [],
   "source": [
    "train_no_null['Building_Class'] = train_no_null.apply(modern_old,axis=1)\n",
    "test_no_null['Building_Class']=test_no_null.apply(modern_old,axis=1)"
   ]
  },
  {
   "cell_type": "code",
   "execution_count": 76,
   "metadata": {},
   "outputs": [
    {
     "data": {
      "text/plain": [
       "old       2240\n",
       "modern     829\n",
       "Name: Building_Class, dtype: int64"
      ]
     },
     "execution_count": 76,
     "metadata": {},
     "output_type": "execute_result"
    }
   ],
   "source": [
    "test_no_null['Building_Class'].value_counts()"
   ]
  },
  {
   "cell_type": "code",
   "execution_count": 77,
   "metadata": {},
   "outputs": [],
   "source": [
    "train_no_null.drop('Garden',axis=1,inplace=True)\n",
    "\n",
    "test_no_null.drop('Building_Fenced',axis=1,inplace=True)"
   ]
  },
  {
   "cell_type": "code",
   "execution_count": 78,
   "metadata": {},
   "outputs": [],
   "source": [
    "test_no_null.drop('Garden',axis=1,inplace=True)\n",
    "train_no_null.drop('Building_Fenced',axis=1,inplace=True)"
   ]
  },
  {
   "cell_type": "markdown",
   "metadata": {},
   "source": [
    "### 6.2 CREATING A NEW FEATURE FROM RESIDENTIAL AND SETTLEMENT"
   ]
  },
  {
   "cell_type": "code",
   "execution_count": 79,
   "metadata": {},
   "outputs": [],
   "source": [
    "def building_cat(data):\n",
    "    residential = data['Residential']\n",
    "    settlement = data['Settlement']\n",
    "    if   settlement == 'R' and residential == 0:\n",
    "        return 'Rural Non-Residential'\n",
    "    elif  settlement == 'R' and residential == 1:\n",
    "        return 'Rural Residential'\n",
    "    elif settlement == 'U' and residential == 0:\n",
    "        return 'Urban Non-Residential'\n",
    "    elif settlement == 'U' and residential == 1:\n",
    "        return 'Urban Residential'"
   ]
  },
  {
   "cell_type": "code",
   "execution_count": 80,
   "metadata": {},
   "outputs": [],
   "source": [
    "train_no_null['Building_category'] = train_no_null.apply(building_cat,axis=1)\n",
    "test_no_null['Building_category']=test_no_null.apply(building_cat,axis=1)"
   ]
  },
  {
   "cell_type": "code",
   "execution_count": 81,
   "metadata": {},
   "outputs": [
    {
     "data": {
      "text/plain": [
       "Urban Non-Residential    2602\n",
       "Rural Non-Residential    2371\n",
       "Rural Residential        1239\n",
       "Urban Residential         948\n",
       "Name: Building_category, dtype: int64"
      ]
     },
     "execution_count": 81,
     "metadata": {},
     "output_type": "execute_result"
    }
   ],
   "source": [
    "train_no_null['Building_category'].value_counts()"
   ]
  },
  {
   "cell_type": "code",
   "execution_count": 82,
   "metadata": {},
   "outputs": [],
   "source": [
    "train_no_null.drop('Residential',axis=1,inplace=True)\n",
    "test_no_null.drop('Settlement',axis=1,inplace=True)"
   ]
  },
  {
   "cell_type": "code",
   "execution_count": 83,
   "metadata": {},
   "outputs": [],
   "source": [
    "test_no_null.drop('Residential',axis=1,inplace=True)\n",
    "train_no_null.drop('Settlement',axis=1,inplace=True)"
   ]
  },
  {
   "cell_type": "markdown",
   "metadata": {},
   "source": [
    "### 6.2 CREATING A NEW FEATURE FROM  Date_of_Occupancy and YearOfObservation\n"
   ]
  },
  {
   "cell_type": "code",
   "execution_count": 84,
   "metadata": {},
   "outputs": [],
   "source": [
    "def building_age(data):\n",
    "    date = data['Date_of_Occupancy']\n",
    "    year = data['YearOfObservation']\n",
    "    age = year-date\n",
    "    return age"
   ]
  },
  {
   "cell_type": "code",
   "execution_count": 85,
   "metadata": {},
   "outputs": [],
   "source": [
    "train_no_null['Building_age'] = train_no_null.apply(building_age,axis=1)\n",
    "test_no_null['Building_age'] = test_no_null.apply(building_age,axis=1)"
   ]
  },
  {
   "cell_type": "code",
   "execution_count": 86,
   "metadata": {},
   "outputs": [
    {
     "data": {
      "text/plain": [
       "0"
      ]
     },
     "execution_count": 86,
     "metadata": {},
     "output_type": "execute_result"
    }
   ],
   "source": [
    "test_no_null['Building_age'].isnull().sum()"
   ]
  },
  {
   "cell_type": "code",
   "execution_count": 87,
   "metadata": {},
   "outputs": [],
   "source": [
    "train_no_null.drop(['Date_of_Occupancy','YearOfObservation'],axis=1,inplace=True)\n",
    "test_no_null.drop(['Date_of_Occupancy','YearOfObservation'],axis=1,inplace=True)"
   ]
  },
  {
   "cell_type": "markdown",
   "metadata": {},
   "source": [
    "## 7.0 CATEGORICAL ENCODING"
   ]
  },
  {
   "cell_type": "code",
   "execution_count": 88,
   "metadata": {},
   "outputs": [
    {
     "data": {
      "text/plain": [
       "<3069x1832 sparse matrix of type '<class 'numpy.float64'>'\n",
       "\twith 33759 stored elements in Compressed Sparse Row format>"
      ]
     },
     "execution_count": 88,
     "metadata": {},
     "output_type": "execute_result"
    }
   ],
   "source": [
    "from sklearn.preprocessing import OneHotEncoder\n",
    "\n",
    "encoder = OneHotEncoder()\n",
    "encoder.fit_transform(train_no_null)\n",
    "encoder.fit_transform(test_no_null)"
   ]
  },
  {
   "cell_type": "code",
   "execution_count": 89,
   "metadata": {},
   "outputs": [
    {
     "data": {
      "text/html": [
       "<div>\n",
       "<style scoped>\n",
       "    .dataframe tbody tr th:only-of-type {\n",
       "        vertical-align: middle;\n",
       "    }\n",
       "\n",
       "    .dataframe tbody tr th {\n",
       "        vertical-align: top;\n",
       "    }\n",
       "\n",
       "    .dataframe thead th {\n",
       "        text-align: right;\n",
       "    }\n",
       "</style>\n",
       "<table border=\"1\" class=\"dataframe\">\n",
       "  <thead>\n",
       "    <tr style=\"text-align: right;\">\n",
       "      <th></th>\n",
       "      <th>Building_Painted</th>\n",
       "      <th>Building Dimension</th>\n",
       "      <th>Building_Type</th>\n",
       "      <th>Geo_Code</th>\n",
       "      <th>Claim</th>\n",
       "      <th>Windows</th>\n",
       "      <th>Building Dimensionis missing</th>\n",
       "      <th>Date_of_Occupancyis missing</th>\n",
       "      <th>Insured_time</th>\n",
       "      <th>Building_Class</th>\n",
       "      <th>Building_category</th>\n",
       "      <th>Building_age</th>\n",
       "    </tr>\n",
       "  </thead>\n",
       "  <tbody>\n",
       "    <tr>\n",
       "      <th>0</th>\n",
       "      <td>N</td>\n",
       "      <td>290.00000</td>\n",
       "      <td>1</td>\n",
       "      <td>1053</td>\n",
       "      <td>0</td>\n",
       "      <td>0</td>\n",
       "      <td>False</td>\n",
       "      <td>False</td>\n",
       "      <td>4</td>\n",
       "      <td>old</td>\n",
       "      <td>Urban Non-Residential</td>\n",
       "      <td>53.0</td>\n",
       "    </tr>\n",
       "    <tr>\n",
       "      <th>1</th>\n",
       "      <td>V</td>\n",
       "      <td>490.00000</td>\n",
       "      <td>1</td>\n",
       "      <td>1053</td>\n",
       "      <td>0</td>\n",
       "      <td>2</td>\n",
       "      <td>False</td>\n",
       "      <td>False</td>\n",
       "      <td>4</td>\n",
       "      <td>modern</td>\n",
       "      <td>Rural Non-Residential</td>\n",
       "      <td>85.0</td>\n",
       "    </tr>\n",
       "    <tr>\n",
       "      <th>2</th>\n",
       "      <td>N</td>\n",
       "      <td>595.00000</td>\n",
       "      <td>1</td>\n",
       "      <td>1053</td>\n",
       "      <td>0</td>\n",
       "      <td>0</td>\n",
       "      <td>False</td>\n",
       "      <td>False</td>\n",
       "      <td>4</td>\n",
       "      <td>old</td>\n",
       "      <td>Urban Non-Residential</td>\n",
       "      <td>54.0</td>\n",
       "    </tr>\n",
       "    <tr>\n",
       "      <th>3</th>\n",
       "      <td>V</td>\n",
       "      <td>2840.00000</td>\n",
       "      <td>1</td>\n",
       "      <td>1053</td>\n",
       "      <td>0</td>\n",
       "      <td>0</td>\n",
       "      <td>False</td>\n",
       "      <td>False</td>\n",
       "      <td>4</td>\n",
       "      <td>old</td>\n",
       "      <td>Urban Non-Residential</td>\n",
       "      <td>53.0</td>\n",
       "    </tr>\n",
       "    <tr>\n",
       "      <th>4</th>\n",
       "      <td>V</td>\n",
       "      <td>680.00000</td>\n",
       "      <td>1</td>\n",
       "      <td>1053</td>\n",
       "      <td>0</td>\n",
       "      <td>1</td>\n",
       "      <td>False</td>\n",
       "      <td>False</td>\n",
       "      <td>4</td>\n",
       "      <td>modern</td>\n",
       "      <td>Rural Non-Residential</td>\n",
       "      <td>84.0</td>\n",
       "    </tr>\n",
       "    <tr>\n",
       "      <th>...</th>\n",
       "      <td>...</td>\n",
       "      <td>...</td>\n",
       "      <td>...</td>\n",
       "      <td>...</td>\n",
       "      <td>...</td>\n",
       "      <td>...</td>\n",
       "      <td>...</td>\n",
       "      <td>...</td>\n",
       "      <td>...</td>\n",
       "      <td>...</td>\n",
       "      <td>...</td>\n",
       "      <td>...</td>\n",
       "    </tr>\n",
       "    <tr>\n",
       "      <th>7155</th>\n",
       "      <td>V</td>\n",
       "      <td>1883.72753</td>\n",
       "      <td>1</td>\n",
       "      <td>6088</td>\n",
       "      <td>0</td>\n",
       "      <td>0</td>\n",
       "      <td>False</td>\n",
       "      <td>False</td>\n",
       "      <td>4</td>\n",
       "      <td>old</td>\n",
       "      <td>Urban Residential</td>\n",
       "      <td>11.0</td>\n",
       "    </tr>\n",
       "    <tr>\n",
       "      <th>7156</th>\n",
       "      <td>V</td>\n",
       "      <td>1883.72753</td>\n",
       "      <td>2</td>\n",
       "      <td>6088</td>\n",
       "      <td>1</td>\n",
       "      <td>0</td>\n",
       "      <td>False</td>\n",
       "      <td>False</td>\n",
       "      <td>4</td>\n",
       "      <td>old</td>\n",
       "      <td>Urban Non-Residential</td>\n",
       "      <td>33.0</td>\n",
       "    </tr>\n",
       "    <tr>\n",
       "      <th>7157</th>\n",
       "      <td>V</td>\n",
       "      <td>1883.72753</td>\n",
       "      <td>1</td>\n",
       "      <td>6088</td>\n",
       "      <td>0</td>\n",
       "      <td>0</td>\n",
       "      <td>False</td>\n",
       "      <td>False</td>\n",
       "      <td>1</td>\n",
       "      <td>old</td>\n",
       "      <td>Urban Non-Residential</td>\n",
       "      <td>24.0</td>\n",
       "    </tr>\n",
       "    <tr>\n",
       "      <th>7158</th>\n",
       "      <td>V</td>\n",
       "      <td>1883.72753</td>\n",
       "      <td>1</td>\n",
       "      <td>6088</td>\n",
       "      <td>0</td>\n",
       "      <td>0</td>\n",
       "      <td>False</td>\n",
       "      <td>False</td>\n",
       "      <td>4</td>\n",
       "      <td>old</td>\n",
       "      <td>Urban Non-Residential</td>\n",
       "      <td>41.0</td>\n",
       "    </tr>\n",
       "    <tr>\n",
       "      <th>7159</th>\n",
       "      <td>V</td>\n",
       "      <td>1883.72753</td>\n",
       "      <td>1</td>\n",
       "      <td>6088</td>\n",
       "      <td>0</td>\n",
       "      <td>0</td>\n",
       "      <td>False</td>\n",
       "      <td>False</td>\n",
       "      <td>4</td>\n",
       "      <td>old</td>\n",
       "      <td>Urban Non-Residential</td>\n",
       "      <td>10.0</td>\n",
       "    </tr>\n",
       "  </tbody>\n",
       "</table>\n",
       "<p>7160 rows × 12 columns</p>\n",
       "</div>"
      ],
      "text/plain": [
       "     Building_Painted  Building Dimension  Building_Type Geo_Code  Claim  \\\n",
       "0                   N           290.00000              1     1053      0   \n",
       "1                   V           490.00000              1     1053      0   \n",
       "2                   N           595.00000              1     1053      0   \n",
       "3                   V          2840.00000              1     1053      0   \n",
       "4                   V           680.00000              1     1053      0   \n",
       "...               ...                 ...            ...      ...    ...   \n",
       "7155                V          1883.72753              1     6088      0   \n",
       "7156                V          1883.72753              2     6088      1   \n",
       "7157                V          1883.72753              1     6088      0   \n",
       "7158                V          1883.72753              1     6088      0   \n",
       "7159                V          1883.72753              1     6088      0   \n",
       "\n",
       "      Windows  Building Dimensionis missing  Date_of_Occupancyis missing  \\\n",
       "0           0                         False                        False   \n",
       "1           2                         False                        False   \n",
       "2           0                         False                        False   \n",
       "3           0                         False                        False   \n",
       "4           1                         False                        False   \n",
       "...       ...                           ...                          ...   \n",
       "7155        0                         False                        False   \n",
       "7156        0                         False                        False   \n",
       "7157        0                         False                        False   \n",
       "7158        0                         False                        False   \n",
       "7159        0                         False                        False   \n",
       "\n",
       "      Insured_time Building_Class      Building_category  Building_age  \n",
       "0                4            old  Urban Non-Residential          53.0  \n",
       "1                4         modern  Rural Non-Residential          85.0  \n",
       "2                4            old  Urban Non-Residential          54.0  \n",
       "3                4            old  Urban Non-Residential          53.0  \n",
       "4                4         modern  Rural Non-Residential          84.0  \n",
       "...            ...            ...                    ...           ...  \n",
       "7155             4            old      Urban Residential          11.0  \n",
       "7156             4            old  Urban Non-Residential          33.0  \n",
       "7157             1            old  Urban Non-Residential          24.0  \n",
       "7158             4            old  Urban Non-Residential          41.0  \n",
       "7159             4            old  Urban Non-Residential          10.0  \n",
       "\n",
       "[7160 rows x 12 columns]"
      ]
     },
     "execution_count": 89,
     "metadata": {},
     "output_type": "execute_result"
    }
   ],
   "source": [
    "train_no_null"
   ]
  },
  {
   "cell_type": "markdown",
   "metadata": {},
   "source": [
    "## 8.0 FEATURE SCALING"
   ]
  },
  {
   "cell_type": "raw",
   "metadata": {},
   "source": [
    "Now we are done with the data preprocessing stage.We can decide to move on to the building of the predictive model for the mean time and thereafter come for any modification to the data preprocessing if need be"
   ]
  },
  {
   "cell_type": "markdown",
   "metadata": {},
   "source": [
    "First, save the preprocessed data as a csv file "
   ]
  },
  {
   "cell_type": "code",
   "execution_count": 90,
   "metadata": {},
   "outputs": [],
   "source": [
    "train_no_null.to_csv('insured_prepro_train.csv')\n",
    "test_no_null.to_csv('insure_prepro_test.csv')"
   ]
  },
  {
   "cell_type": "code",
   "execution_count": 91,
   "metadata": {},
   "outputs": [
    {
     "data": {
      "text/html": [
       "<div>\n",
       "<style scoped>\n",
       "    .dataframe tbody tr th:only-of-type {\n",
       "        vertical-align: middle;\n",
       "    }\n",
       "\n",
       "    .dataframe tbody tr th {\n",
       "        vertical-align: top;\n",
       "    }\n",
       "\n",
       "    .dataframe thead th {\n",
       "        text-align: right;\n",
       "    }\n",
       "</style>\n",
       "<table border=\"1\" class=\"dataframe\">\n",
       "  <thead>\n",
       "    <tr style=\"text-align: right;\">\n",
       "      <th></th>\n",
       "      <th>Unnamed: 0</th>\n",
       "      <th>Building_Painted</th>\n",
       "      <th>Building Dimension</th>\n",
       "      <th>Building_Type</th>\n",
       "      <th>Geo_Code</th>\n",
       "      <th>Claim</th>\n",
       "      <th>Windows</th>\n",
       "      <th>Building Dimensionis missing</th>\n",
       "      <th>Date_of_Occupancyis missing</th>\n",
       "      <th>Insured_time</th>\n",
       "      <th>Building_Class</th>\n",
       "      <th>Building_category</th>\n",
       "      <th>Building_age</th>\n",
       "    </tr>\n",
       "  </thead>\n",
       "  <tbody>\n",
       "    <tr>\n",
       "      <th>0</th>\n",
       "      <td>0</td>\n",
       "      <td>N</td>\n",
       "      <td>290.00000</td>\n",
       "      <td>1</td>\n",
       "      <td>1053</td>\n",
       "      <td>0</td>\n",
       "      <td>0</td>\n",
       "      <td>False</td>\n",
       "      <td>False</td>\n",
       "      <td>4</td>\n",
       "      <td>old</td>\n",
       "      <td>Urban Non-Residential</td>\n",
       "      <td>53.0</td>\n",
       "    </tr>\n",
       "    <tr>\n",
       "      <th>1</th>\n",
       "      <td>1</td>\n",
       "      <td>V</td>\n",
       "      <td>490.00000</td>\n",
       "      <td>1</td>\n",
       "      <td>1053</td>\n",
       "      <td>0</td>\n",
       "      <td>2</td>\n",
       "      <td>False</td>\n",
       "      <td>False</td>\n",
       "      <td>4</td>\n",
       "      <td>modern</td>\n",
       "      <td>Rural Non-Residential</td>\n",
       "      <td>85.0</td>\n",
       "    </tr>\n",
       "    <tr>\n",
       "      <th>2</th>\n",
       "      <td>2</td>\n",
       "      <td>N</td>\n",
       "      <td>595.00000</td>\n",
       "      <td>1</td>\n",
       "      <td>1053</td>\n",
       "      <td>0</td>\n",
       "      <td>0</td>\n",
       "      <td>False</td>\n",
       "      <td>False</td>\n",
       "      <td>4</td>\n",
       "      <td>old</td>\n",
       "      <td>Urban Non-Residential</td>\n",
       "      <td>54.0</td>\n",
       "    </tr>\n",
       "    <tr>\n",
       "      <th>3</th>\n",
       "      <td>3</td>\n",
       "      <td>V</td>\n",
       "      <td>2840.00000</td>\n",
       "      <td>1</td>\n",
       "      <td>1053</td>\n",
       "      <td>0</td>\n",
       "      <td>0</td>\n",
       "      <td>False</td>\n",
       "      <td>False</td>\n",
       "      <td>4</td>\n",
       "      <td>old</td>\n",
       "      <td>Urban Non-Residential</td>\n",
       "      <td>53.0</td>\n",
       "    </tr>\n",
       "    <tr>\n",
       "      <th>4</th>\n",
       "      <td>4</td>\n",
       "      <td>V</td>\n",
       "      <td>680.00000</td>\n",
       "      <td>1</td>\n",
       "      <td>1053</td>\n",
       "      <td>0</td>\n",
       "      <td>1</td>\n",
       "      <td>False</td>\n",
       "      <td>False</td>\n",
       "      <td>4</td>\n",
       "      <td>modern</td>\n",
       "      <td>Rural Non-Residential</td>\n",
       "      <td>84.0</td>\n",
       "    </tr>\n",
       "    <tr>\n",
       "      <th>...</th>\n",
       "      <td>...</td>\n",
       "      <td>...</td>\n",
       "      <td>...</td>\n",
       "      <td>...</td>\n",
       "      <td>...</td>\n",
       "      <td>...</td>\n",
       "      <td>...</td>\n",
       "      <td>...</td>\n",
       "      <td>...</td>\n",
       "      <td>...</td>\n",
       "      <td>...</td>\n",
       "      <td>...</td>\n",
       "      <td>...</td>\n",
       "    </tr>\n",
       "    <tr>\n",
       "      <th>7155</th>\n",
       "      <td>7155</td>\n",
       "      <td>V</td>\n",
       "      <td>1883.72753</td>\n",
       "      <td>1</td>\n",
       "      <td>6088</td>\n",
       "      <td>0</td>\n",
       "      <td>0</td>\n",
       "      <td>False</td>\n",
       "      <td>False</td>\n",
       "      <td>4</td>\n",
       "      <td>old</td>\n",
       "      <td>Urban Residential</td>\n",
       "      <td>11.0</td>\n",
       "    </tr>\n",
       "    <tr>\n",
       "      <th>7156</th>\n",
       "      <td>7156</td>\n",
       "      <td>V</td>\n",
       "      <td>1883.72753</td>\n",
       "      <td>2</td>\n",
       "      <td>6088</td>\n",
       "      <td>1</td>\n",
       "      <td>0</td>\n",
       "      <td>False</td>\n",
       "      <td>False</td>\n",
       "      <td>4</td>\n",
       "      <td>old</td>\n",
       "      <td>Urban Non-Residential</td>\n",
       "      <td>33.0</td>\n",
       "    </tr>\n",
       "    <tr>\n",
       "      <th>7157</th>\n",
       "      <td>7157</td>\n",
       "      <td>V</td>\n",
       "      <td>1883.72753</td>\n",
       "      <td>1</td>\n",
       "      <td>6088</td>\n",
       "      <td>0</td>\n",
       "      <td>0</td>\n",
       "      <td>False</td>\n",
       "      <td>False</td>\n",
       "      <td>1</td>\n",
       "      <td>old</td>\n",
       "      <td>Urban Non-Residential</td>\n",
       "      <td>24.0</td>\n",
       "    </tr>\n",
       "    <tr>\n",
       "      <th>7158</th>\n",
       "      <td>7158</td>\n",
       "      <td>V</td>\n",
       "      <td>1883.72753</td>\n",
       "      <td>1</td>\n",
       "      <td>6088</td>\n",
       "      <td>0</td>\n",
       "      <td>0</td>\n",
       "      <td>False</td>\n",
       "      <td>False</td>\n",
       "      <td>4</td>\n",
       "      <td>old</td>\n",
       "      <td>Urban Non-Residential</td>\n",
       "      <td>41.0</td>\n",
       "    </tr>\n",
       "    <tr>\n",
       "      <th>7159</th>\n",
       "      <td>7159</td>\n",
       "      <td>V</td>\n",
       "      <td>1883.72753</td>\n",
       "      <td>1</td>\n",
       "      <td>6088</td>\n",
       "      <td>0</td>\n",
       "      <td>0</td>\n",
       "      <td>False</td>\n",
       "      <td>False</td>\n",
       "      <td>4</td>\n",
       "      <td>old</td>\n",
       "      <td>Urban Non-Residential</td>\n",
       "      <td>10.0</td>\n",
       "    </tr>\n",
       "  </tbody>\n",
       "</table>\n",
       "<p>7160 rows × 13 columns</p>\n",
       "</div>"
      ],
      "text/plain": [
       "      Unnamed: 0 Building_Painted  Building Dimension  Building_Type Geo_Code  \\\n",
       "0              0                N           290.00000              1     1053   \n",
       "1              1                V           490.00000              1     1053   \n",
       "2              2                N           595.00000              1     1053   \n",
       "3              3                V          2840.00000              1     1053   \n",
       "4              4                V           680.00000              1     1053   \n",
       "...          ...              ...                 ...            ...      ...   \n",
       "7155        7155                V          1883.72753              1     6088   \n",
       "7156        7156                V          1883.72753              2     6088   \n",
       "7157        7157                V          1883.72753              1     6088   \n",
       "7158        7158                V          1883.72753              1     6088   \n",
       "7159        7159                V          1883.72753              1     6088   \n",
       "\n",
       "      Claim  Windows  Building Dimensionis missing  \\\n",
       "0         0        0                         False   \n",
       "1         0        2                         False   \n",
       "2         0        0                         False   \n",
       "3         0        0                         False   \n",
       "4         0        1                         False   \n",
       "...     ...      ...                           ...   \n",
       "7155      0        0                         False   \n",
       "7156      1        0                         False   \n",
       "7157      0        0                         False   \n",
       "7158      0        0                         False   \n",
       "7159      0        0                         False   \n",
       "\n",
       "      Date_of_Occupancyis missing  Insured_time Building_Class  \\\n",
       "0                           False             4            old   \n",
       "1                           False             4         modern   \n",
       "2                           False             4            old   \n",
       "3                           False             4            old   \n",
       "4                           False             4         modern   \n",
       "...                           ...           ...            ...   \n",
       "7155                        False             4            old   \n",
       "7156                        False             4            old   \n",
       "7157                        False             1            old   \n",
       "7158                        False             4            old   \n",
       "7159                        False             4            old   \n",
       "\n",
       "          Building_category  Building_age  \n",
       "0     Urban Non-Residential          53.0  \n",
       "1     Rural Non-Residential          85.0  \n",
       "2     Urban Non-Residential          54.0  \n",
       "3     Urban Non-Residential          53.0  \n",
       "4     Rural Non-Residential          84.0  \n",
       "...                     ...           ...  \n",
       "7155      Urban Residential          11.0  \n",
       "7156  Urban Non-Residential          33.0  \n",
       "7157  Urban Non-Residential          24.0  \n",
       "7158  Urban Non-Residential          41.0  \n",
       "7159  Urban Non-Residential          10.0  \n",
       "\n",
       "[7160 rows x 13 columns]"
      ]
     },
     "execution_count": 91,
     "metadata": {},
     "output_type": "execute_result"
    }
   ],
   "source": [
    "pd.read_csv('insured_prepro_train.csv')"
   ]
  }
 ],
 "metadata": {
  "kernelspec": {
   "display_name": "Python 3",
   "language": "python",
   "name": "python3"
  },
  "language_info": {
   "codemirror_mode": {
    "name": "ipython",
    "version": 3
   },
   "file_extension": ".py",
   "mimetype": "text/x-python",
   "name": "python",
   "nbconvert_exporter": "python",
   "pygments_lexer": "ipython3",
   "version": "3.8.5"
  }
 },
 "nbformat": 4,
 "nbformat_minor": 4
}
